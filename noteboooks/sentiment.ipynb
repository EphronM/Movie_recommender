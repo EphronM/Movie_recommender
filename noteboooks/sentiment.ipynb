{
  "cells": [
    {
      "cell_type": "markdown",
      "source": [
        "#Training the sentiment analysis model"
      ],
      "metadata": {
        "id": "-Zkwo48b3ymz"
      }
    },
    {
      "cell_type": "code",
      "execution_count": null,
      "metadata": {
        "id": "oHPqs2yOQ31d",
        "colab": {
          "base_uri": "https://localhost:8080/"
        },
        "outputId": "b523949f-8a08-4332-f1af-5c57ef9ebc60"
      },
      "outputs": [
        {
          "output_type": "stream",
          "name": "stdout",
          "text": [
            "Requirement already satisfied: nltk in /usr/local/lib/python3.7/dist-packages (3.2.5)\n",
            "Requirement already satisfied: six in /usr/local/lib/python3.7/dist-packages (from nltk) (1.15.0)\n",
            "[nltk_data] Downloading package stopwords to /root/nltk_data...\n",
            "[nltk_data]   Unzipping corpora/stopwords.zip.\n"
          ]
        }
      ],
      "source": [
        "import pandas as pd\n",
        "import numpy as np\n",
        "import nltk\n",
        "from nltk.corpus import stopwords\n",
        "from sklearn.feature_extraction.text import TfidfVectorizer\n",
        "from sklearn.model_selection import train_test_split\n",
        "from sklearn import naive_bayes\n",
        "from sklearn.metrics import roc_auc_score,accuracy_score\n",
        "import pickle\n",
        "import json\n",
        "import bs4 as bs\n",
        "import urllib.request\n",
        "!pip install nltk\n",
        "import nltk\n",
        "nltk.download('stopwords')\n",
        "from nltk.corpus import stopwords"
      ]
    },
    {
      "cell_type": "code",
      "execution_count": null,
      "metadata": {
        "id": "-8uoJ83tQ31w"
      },
      "outputs": [],
      "source": [
        "dataset = pd.read_csv('reviews.txt',sep = '\\t', names =['Reviews','Comments'])"
      ]
    },
    {
      "cell_type": "code",
      "execution_count": null,
      "metadata": {
        "colab": {
          "base_uri": "https://localhost:8080/",
          "height": 424
        },
        "id": "rMllJnZWQ31y",
        "outputId": "5a6ff16b-9872-4da6-f579-1eb22b819c75"
      },
      "outputs": [
        {
          "output_type": "execute_result",
          "data": {
            "text/html": [
              "\n",
              "  <div id=\"df-68566f39-7a61-4e52-beee-1eac95589759\">\n",
              "    <div class=\"colab-df-container\">\n",
              "      <div>\n",
              "<style scoped>\n",
              "    .dataframe tbody tr th:only-of-type {\n",
              "        vertical-align: middle;\n",
              "    }\n",
              "\n",
              "    .dataframe tbody tr th {\n",
              "        vertical-align: top;\n",
              "    }\n",
              "\n",
              "    .dataframe thead th {\n",
              "        text-align: right;\n",
              "    }\n",
              "</style>\n",
              "<table border=\"1\" class=\"dataframe\">\n",
              "  <thead>\n",
              "    <tr style=\"text-align: right;\">\n",
              "      <th></th>\n",
              "      <th>Reviews</th>\n",
              "      <th>Comments</th>\n",
              "    </tr>\n",
              "  </thead>\n",
              "  <tbody>\n",
              "    <tr>\n",
              "      <th>0</th>\n",
              "      <td>1</td>\n",
              "      <td>The Da Vinci Code book is just awesome.</td>\n",
              "    </tr>\n",
              "    <tr>\n",
              "      <th>1</th>\n",
              "      <td>1</td>\n",
              "      <td>this was the first clive cussler i've ever rea...</td>\n",
              "    </tr>\n",
              "    <tr>\n",
              "      <th>2</th>\n",
              "      <td>1</td>\n",
              "      <td>i liked the Da Vinci Code a lot.</td>\n",
              "    </tr>\n",
              "    <tr>\n",
              "      <th>3</th>\n",
              "      <td>1</td>\n",
              "      <td>i liked the Da Vinci Code a lot.</td>\n",
              "    </tr>\n",
              "    <tr>\n",
              "      <th>4</th>\n",
              "      <td>1</td>\n",
              "      <td>I liked the Da Vinci Code but it ultimatly did...</td>\n",
              "    </tr>\n",
              "    <tr>\n",
              "      <th>...</th>\n",
              "      <td>...</td>\n",
              "      <td>...</td>\n",
              "    </tr>\n",
              "    <tr>\n",
              "      <th>6913</th>\n",
              "      <td>0</td>\n",
              "      <td>Brokeback Mountain was boring.</td>\n",
              "    </tr>\n",
              "    <tr>\n",
              "      <th>6914</th>\n",
              "      <td>0</td>\n",
              "      <td>So Brokeback Mountain was really depressing.</td>\n",
              "    </tr>\n",
              "    <tr>\n",
              "      <th>6915</th>\n",
              "      <td>0</td>\n",
              "      <td>As I sit here, watching the MTV Movie Awards, ...</td>\n",
              "    </tr>\n",
              "    <tr>\n",
              "      <th>6916</th>\n",
              "      <td>0</td>\n",
              "      <td>Ok brokeback mountain is such a horrible movie.</td>\n",
              "    </tr>\n",
              "    <tr>\n",
              "      <th>6917</th>\n",
              "      <td>0</td>\n",
              "      <td>Oh, and Brokeback Mountain was a terrible movie.</td>\n",
              "    </tr>\n",
              "  </tbody>\n",
              "</table>\n",
              "<p>6918 rows × 2 columns</p>\n",
              "</div>\n",
              "      <button class=\"colab-df-convert\" onclick=\"convertToInteractive('df-68566f39-7a61-4e52-beee-1eac95589759')\"\n",
              "              title=\"Convert this dataframe to an interactive table.\"\n",
              "              style=\"display:none;\">\n",
              "        \n",
              "  <svg xmlns=\"http://www.w3.org/2000/svg\" height=\"24px\"viewBox=\"0 0 24 24\"\n",
              "       width=\"24px\">\n",
              "    <path d=\"M0 0h24v24H0V0z\" fill=\"none\"/>\n",
              "    <path d=\"M18.56 5.44l.94 2.06.94-2.06 2.06-.94-2.06-.94-.94-2.06-.94 2.06-2.06.94zm-11 1L8.5 8.5l.94-2.06 2.06-.94-2.06-.94L8.5 2.5l-.94 2.06-2.06.94zm10 10l.94 2.06.94-2.06 2.06-.94-2.06-.94-.94-2.06-.94 2.06-2.06.94z\"/><path d=\"M17.41 7.96l-1.37-1.37c-.4-.4-.92-.59-1.43-.59-.52 0-1.04.2-1.43.59L10.3 9.45l-7.72 7.72c-.78.78-.78 2.05 0 2.83L4 21.41c.39.39.9.59 1.41.59.51 0 1.02-.2 1.41-.59l7.78-7.78 2.81-2.81c.8-.78.8-2.07 0-2.86zM5.41 20L4 18.59l7.72-7.72 1.47 1.35L5.41 20z\"/>\n",
              "  </svg>\n",
              "      </button>\n",
              "      \n",
              "  <style>\n",
              "    .colab-df-container {\n",
              "      display:flex;\n",
              "      flex-wrap:wrap;\n",
              "      gap: 12px;\n",
              "    }\n",
              "\n",
              "    .colab-df-convert {\n",
              "      background-color: #E8F0FE;\n",
              "      border: none;\n",
              "      border-radius: 50%;\n",
              "      cursor: pointer;\n",
              "      display: none;\n",
              "      fill: #1967D2;\n",
              "      height: 32px;\n",
              "      padding: 0 0 0 0;\n",
              "      width: 32px;\n",
              "    }\n",
              "\n",
              "    .colab-df-convert:hover {\n",
              "      background-color: #E2EBFA;\n",
              "      box-shadow: 0px 1px 2px rgba(60, 64, 67, 0.3), 0px 1px 3px 1px rgba(60, 64, 67, 0.15);\n",
              "      fill: #174EA6;\n",
              "    }\n",
              "\n",
              "    [theme=dark] .colab-df-convert {\n",
              "      background-color: #3B4455;\n",
              "      fill: #D2E3FC;\n",
              "    }\n",
              "\n",
              "    [theme=dark] .colab-df-convert:hover {\n",
              "      background-color: #434B5C;\n",
              "      box-shadow: 0px 1px 3px 1px rgba(0, 0, 0, 0.15);\n",
              "      filter: drop-shadow(0px 1px 2px rgba(0, 0, 0, 0.3));\n",
              "      fill: #FFFFFF;\n",
              "    }\n",
              "  </style>\n",
              "\n",
              "      <script>\n",
              "        const buttonEl =\n",
              "          document.querySelector('#df-68566f39-7a61-4e52-beee-1eac95589759 button.colab-df-convert');\n",
              "        buttonEl.style.display =\n",
              "          google.colab.kernel.accessAllowed ? 'block' : 'none';\n",
              "\n",
              "        async function convertToInteractive(key) {\n",
              "          const element = document.querySelector('#df-68566f39-7a61-4e52-beee-1eac95589759');\n",
              "          const dataTable =\n",
              "            await google.colab.kernel.invokeFunction('convertToInteractive',\n",
              "                                                     [key], {});\n",
              "          if (!dataTable) return;\n",
              "\n",
              "          const docLinkHtml = 'Like what you see? Visit the ' +\n",
              "            '<a target=\"_blank\" href=https://colab.research.google.com/notebooks/data_table.ipynb>data table notebook</a>'\n",
              "            + ' to learn more about interactive tables.';\n",
              "          element.innerHTML = '';\n",
              "          dataTable['output_type'] = 'display_data';\n",
              "          await google.colab.output.renderOutput(dataTable, element);\n",
              "          const docLink = document.createElement('div');\n",
              "          docLink.innerHTML = docLinkHtml;\n",
              "          element.appendChild(docLink);\n",
              "        }\n",
              "      </script>\n",
              "    </div>\n",
              "  </div>\n",
              "  "
            ],
            "text/plain": [
              "      Reviews                                           Comments\n",
              "0           1            The Da Vinci Code book is just awesome.\n",
              "1           1  this was the first clive cussler i've ever rea...\n",
              "2           1                   i liked the Da Vinci Code a lot.\n",
              "3           1                   i liked the Da Vinci Code a lot.\n",
              "4           1  I liked the Da Vinci Code but it ultimatly did...\n",
              "...       ...                                                ...\n",
              "6913        0                     Brokeback Mountain was boring.\n",
              "6914        0       So Brokeback Mountain was really depressing.\n",
              "6915        0  As I sit here, watching the MTV Movie Awards, ...\n",
              "6916        0    Ok brokeback mountain is such a horrible movie.\n",
              "6917        0   Oh, and Brokeback Mountain was a terrible movie.\n",
              "\n",
              "[6918 rows x 2 columns]"
            ]
          },
          "metadata": {},
          "execution_count": 90
        }
      ],
      "source": [
        "dataset"
      ]
    },
    {
      "cell_type": "code",
      "execution_count": null,
      "metadata": {
        "id": "2nVdjV_WQ310"
      },
      "outputs": [],
      "source": [
        "stopset = set(stopwords.words('english'))"
      ]
    },
    {
      "cell_type": "code",
      "execution_count": null,
      "metadata": {
        "id": "2taZjVh_Q313"
      },
      "outputs": [],
      "source": [
        "vectorizer = TfidfVectorizer(use_idf = True,lowercase = True, strip_accents='ascii',stop_words=stopset)"
      ]
    },
    {
      "cell_type": "code",
      "execution_count": null,
      "metadata": {
        "id": "VWTpRkbwQ316"
      },
      "outputs": [],
      "source": [
        "X = vectorizer.fit_transform(dataset.Comments)\n",
        "y = dataset.Reviews\n",
        "pickle.dump(vectorizer, open('tranform.pkl', 'wb'))"
      ]
    },
    {
      "cell_type": "code",
      "execution_count": null,
      "metadata": {
        "id": "6Ju-1CMzQ319"
      },
      "outputs": [],
      "source": [
        "X_train, X_test, y_train, y_test = train_test_split(X, y, test_size=0.20, random_state=42)"
      ]
    },
    {
      "cell_type": "code",
      "execution_count": null,
      "metadata": {
        "colab": {
          "base_uri": "https://localhost:8080/"
        },
        "id": "C2oyqCWJQ31_",
        "outputId": "fe24850f-0830-4066-ee7e-fbba7c9285cf"
      },
      "outputs": [
        {
          "output_type": "execute_result",
          "data": {
            "text/plain": [
              "MultinomialNB()"
            ]
          },
          "metadata": {},
          "execution_count": 95
        }
      ],
      "source": [
        "clf = naive_bayes.MultinomialNB()\n",
        "clf.fit(X_train,y_train)"
      ]
    },
    {
      "cell_type": "code",
      "execution_count": null,
      "metadata": {
        "colab": {
          "base_uri": "https://localhost:8080/"
        },
        "id": "lRnodGnyQ32C",
        "outputId": "c91e6e9e-62bf-4ab1-ca76-b232ab429b95"
      },
      "outputs": [
        {
          "output_type": "execute_result",
          "data": {
            "text/plain": [
              "97.47109826589595"
            ]
          },
          "metadata": {},
          "execution_count": 96
        }
      ],
      "source": [
        "accuracy_score(y_test,clf.predict(X_test))*100"
      ]
    },
    {
      "cell_type": "code",
      "execution_count": null,
      "metadata": {
        "colab": {
          "base_uri": "https://localhost:8080/"
        },
        "id": "G0129zrYQ32F",
        "outputId": "10ac3567-0f14-4180-9523-2eed5d3b3502"
      },
      "outputs": [
        {
          "output_type": "execute_result",
          "data": {
            "text/plain": [
              "MultinomialNB()"
            ]
          },
          "metadata": {},
          "execution_count": 97
        }
      ],
      "source": [
        "clf = naive_bayes.MultinomialNB()\n",
        "clf.fit(X,y)"
      ]
    },
    {
      "cell_type": "code",
      "execution_count": null,
      "metadata": {
        "colab": {
          "base_uri": "https://localhost:8080/"
        },
        "id": "0OFKV9mPQ32H",
        "outputId": "a5d5c9fd-22ec-429e-f092-6b6bed3b03bd"
      },
      "outputs": [
        {
          "output_type": "execute_result",
          "data": {
            "text/plain": [
              "98.77167630057804"
            ]
          },
          "metadata": {},
          "execution_count": 98
        }
      ],
      "source": [
        "accuracy_score(y_test,clf.predict(X_test))*100"
      ]
    },
    {
      "cell_type": "code",
      "execution_count": null,
      "metadata": {
        "id": "gugu1dsEQ32I"
      },
      "outputs": [],
      "source": [
        "filename = 'nlp_model.pkl'\n",
        "pickle.dump(clf, open(filename, 'wb'))"
      ]
    },
    {
      "cell_type": "markdown",
      "source": [
        "# Rough Area \n",
        "> practing the codes"
      ],
      "metadata": {
        "id": "EQ7KC5dj3rWq"
      }
    },
    {
      "cell_type": "code",
      "source": [
        "!pip install tmdbv3api"
      ],
      "metadata": {
        "colab": {
          "base_uri": "https://localhost:8080/"
        },
        "id": "oI2JCnFaZ-CD",
        "outputId": "b7ed3150-82fc-4064-e159-15d5fdbe946f"
      },
      "execution_count": null,
      "outputs": [
        {
          "output_type": "stream",
          "name": "stdout",
          "text": [
            "Collecting tmdbv3api\n",
            "  Downloading tmdbv3api-1.7.6-py2.py3-none-any.whl (17 kB)\n",
            "Requirement already satisfied: requests in /usr/local/lib/python3.7/dist-packages (from tmdbv3api) (2.23.0)\n",
            "Requirement already satisfied: idna<3,>=2.5 in /usr/local/lib/python3.7/dist-packages (from requests->tmdbv3api) (2.10)\n",
            "Requirement already satisfied: chardet<4,>=3.0.2 in /usr/local/lib/python3.7/dist-packages (from requests->tmdbv3api) (3.0.4)\n",
            "Requirement already satisfied: certifi>=2017.4.17 in /usr/local/lib/python3.7/dist-packages (from requests->tmdbv3api) (2021.10.8)\n",
            "Requirement already satisfied: urllib3!=1.25.0,!=1.25.1,<1.26,>=1.21.1 in /usr/local/lib/python3.7/dist-packages (from requests->tmdbv3api) (1.24.3)\n",
            "Installing collected packages: tmdbv3api\n",
            "Successfully installed tmdbv3api-1.7.6\n"
          ]
        }
      ]
    },
    {
      "cell_type": "code",
      "source": [
        "import pickle\n",
        "import pandas as pd\n",
        "import numpy as np\n",
        "from tmdbv3api import TMDb\n",
        "from tmdbv3api import Movie\n",
        "import json\n",
        "import requests\n",
        "from sklearn.feature_extraction.text import CountVectorizer\n",
        "from sklearn.metrics.pairwise import cosine_similarity\n",
        "import json\n",
        "import bs4 as bs\n",
        "import urllib.request\n",
        "\n",
        "\n",
        "\n",
        "tmdb = TMDb()\n",
        "tmdb.api_key=\"12aee6e6e9db1d19c5d8078b2188e3a6\"\n",
        "tmdb_movie = Movie()\n",
        "\n",
        "def get_info(title):\n",
        "  info=[]\n",
        "  result = tmdb_movie.search(title)\n",
        "  if result:\n",
        "    movie_id = result[0].id\n",
        "    response = requests.get(f'https://api.themoviedb.org/3/movie/{movie_id}?api_key=12aee6e6e9db1d19c5d8078b2188e3a6')\n",
        "    data_json = response.json()\n",
        "  else:  \n",
        "    return None\n",
        "  \n",
        "  return data_json"
      ],
      "metadata": {
        "id": "yC8PzffNZ8nt"
      },
      "execution_count": null,
      "outputs": []
    },
    {
      "cell_type": "code",
      "source": [
        "def get_reviews(title):\n",
        "  details = get_info(title)\n",
        "  imdb_id = details['imdb_id']\n",
        "\n",
        "  sauce = urllib.request.urlopen(f'https://www.imdb.com/title/{imdb_id}/reviews?ref_=tt_ov_rt').read()\n",
        "  soup = bs.BeautifulSoup(sauce,'lxml')\n",
        "  soup_result = soup.find_all(\"div\",{\"class\":\"text show-more__control\"})\n",
        "  reviews,reviews_status = [],[]\n",
        "  reviews_list=[]\n",
        "  for reviews in soup_result:\n",
        "\n",
        "    if reviews.string:\n",
        "      reviews_list.append(reviews.string)\n",
        "            # passing the review to our model\n",
        "      movie_review_list = np.array([reviews.string])\n",
        "      movie_vector = vectorizer.transform(movie_review_list)\n",
        "      pred = clf.predict(movie_vector)\n",
        "      reviews_status.append('Good' if pred else 'Bad')\n",
        "    else:\n",
        "      print('error')\n",
        "  return reviews_status, soup_result"
      ],
      "metadata": {
        "id": "1lDeeUxoZxUO"
      },
      "execution_count": null,
      "outputs": []
    },
    {
      "cell_type": "code",
      "source": [
        "def get_reviews(title):\n",
        "  details = get_info(title)\n",
        "  imdb_id = details['imdb_id']\n",
        "\n",
        "  sauce = urllib.request.urlopen(f'https://www.imdb.com/title/{imdb_id}/reviews?ref_=tt_ov_rt').read()\n",
        "  soup = bs.BeautifulSoup(sauce,'lxml')\n",
        "  soup_result = soup.find_all(\"div\",{\"class\":\"text show-more__control\"})\n",
        "  reviews = []\n",
        "  for i in range(len(soup_result)):\n",
        "    reviews.append(soup_result[i].text)\n",
        "\n",
        "  full_reviews = pd.DataFrame(reviews,  columns=['reviews'])\n",
        "  reviews,reviews_status,reviews_list= [],[],[]\n",
        " \n",
        "  for reviews in full_reviews['reviews']:\n",
        "    reviews= [reviews]\n",
        "    movie_vector = vectorizer.transform(reviews)\n",
        "    pred = clf.predict(movie_vector)\n",
        "    reviews_status.append('Good' if pred else 'Bad')\n",
        "    \n",
        "  full_reviews['sentiments'] = reviews_status\n",
        "  return full_reviews\n",
        "  "
      ],
      "metadata": {
        "id": "XhrmxQVLAsVJ"
      },
      "execution_count": null,
      "outputs": []
    },
    {
      "cell_type": "code",
      "source": [
        "review_full = get_reviews('Avatar')"
      ],
      "metadata": {
        "id": "BNOAWqOuAvyw"
      },
      "execution_count": null,
      "outputs": []
    },
    {
      "cell_type": "code",
      "source": [
        "review_full"
      ],
      "metadata": {
        "colab": {
          "base_uri": "https://localhost:8080/",
          "height": 833
        },
        "id": "s_-ndsA-PjmA",
        "outputId": "4b63b0d6-a7c6-4510-e67b-3734acfe75bf"
      },
      "execution_count": null,
      "outputs": [
        {
          "output_type": "execute_result",
          "data": {
            "text/html": [
              "\n",
              "  <div id=\"df-fbbd0fa3-29ad-402a-aba8-ac219022e459\">\n",
              "    <div class=\"colab-df-container\">\n",
              "      <div>\n",
              "<style scoped>\n",
              "    .dataframe tbody tr th:only-of-type {\n",
              "        vertical-align: middle;\n",
              "    }\n",
              "\n",
              "    .dataframe tbody tr th {\n",
              "        vertical-align: top;\n",
              "    }\n",
              "\n",
              "    .dataframe thead th {\n",
              "        text-align: right;\n",
              "    }\n",
              "</style>\n",
              "<table border=\"1\" class=\"dataframe\">\n",
              "  <thead>\n",
              "    <tr style=\"text-align: right;\">\n",
              "      <th></th>\n",
              "      <th>reviews</th>\n",
              "      <th>sentiments</th>\n",
              "    </tr>\n",
              "  </thead>\n",
              "  <tbody>\n",
              "    <tr>\n",
              "      <th>0</th>\n",
              "      <td>As of today, there are 2675 reviews for \"Avata...</td>\n",
              "      <td>Good</td>\n",
              "    </tr>\n",
              "    <tr>\n",
              "      <th>1</th>\n",
              "      <td>I did see Avatar for the first time a while ag...</td>\n",
              "      <td>Good</td>\n",
              "    </tr>\n",
              "    <tr>\n",
              "      <th>2</th>\n",
              "      <td>It's impossible to watch AVATAR for the first ...</td>\n",
              "      <td>Good</td>\n",
              "    </tr>\n",
              "    <tr>\n",
              "      <th>3</th>\n",
              "      <td>Avatar (2009) **** (out of 4)A paraplegic mari...</td>\n",
              "      <td>Good</td>\n",
              "    </tr>\n",
              "    <tr>\n",
              "      <th>4</th>\n",
              "      <td>Marine Jake Sully (Sam Worthington) is paralyz...</td>\n",
              "      <td>Good</td>\n",
              "    </tr>\n",
              "    <tr>\n",
              "      <th>5</th>\n",
              "      <td>This is a remarkable experience, like watching...</td>\n",
              "      <td>Good</td>\n",
              "    </tr>\n",
              "    <tr>\n",
              "      <th>6</th>\n",
              "      <td>high technology. imaginative director. tastefu...</td>\n",
              "      <td>Good</td>\n",
              "    </tr>\n",
              "    <tr>\n",
              "      <th>7</th>\n",
              "      <td>\"Avatar\" is an American movie from 2009 and st...</td>\n",
              "      <td>Bad</td>\n",
              "    </tr>\n",
              "    <tr>\n",
              "      <th>8</th>\n",
              "      <td>I've been badgered to see this film for years,...</td>\n",
              "      <td>Good</td>\n",
              "    </tr>\n",
              "    <tr>\n",
              "      <th>9</th>\n",
              "      <td>In a futuristic society ruled by the economica...</td>\n",
              "      <td>Good</td>\n",
              "    </tr>\n",
              "    <tr>\n",
              "      <th>10</th>\n",
              "      <td>Although I was not too bothered about seeing A...</td>\n",
              "      <td>Bad</td>\n",
              "    </tr>\n",
              "    <tr>\n",
              "      <th>11</th>\n",
              "      <td>Quite a lot has been said and written about th...</td>\n",
              "      <td>Good</td>\n",
              "    </tr>\n",
              "    <tr>\n",
              "      <th>12</th>\n",
              "      <td>I have never, ever gone to a movie before base...</td>\n",
              "      <td>Good</td>\n",
              "    </tr>\n",
              "    <tr>\n",
              "      <th>13</th>\n",
              "      <td>When his brother is killed in a robbery, parap...</td>\n",
              "      <td>Good</td>\n",
              "    </tr>\n",
              "    <tr>\n",
              "      <th>14</th>\n",
              "      <td>Golden Globe winning, and Oscar and BAFTA nomi...</td>\n",
              "      <td>Good</td>\n",
              "    </tr>\n",
              "    <tr>\n",
              "      <th>15</th>\n",
              "      <td>Well, after all the hype - and a chance to see...</td>\n",
              "      <td>Good</td>\n",
              "    </tr>\n",
              "    <tr>\n",
              "      <th>16</th>\n",
              "      <td>Having heard the hype about how this was the g...</td>\n",
              "      <td>Bad</td>\n",
              "    </tr>\n",
              "    <tr>\n",
              "      <th>17</th>\n",
              "      <td>This movie was a treat to the eye, and that wa...</td>\n",
              "      <td>Bad</td>\n",
              "    </tr>\n",
              "    <tr>\n",
              "      <th>18</th>\n",
              "      <td>I wasn't going to bother seeing Avatar: I was ...</td>\n",
              "      <td>Good</td>\n",
              "    </tr>\n",
              "    <tr>\n",
              "      <th>19</th>\n",
              "      <td>James Cameron has done it again. He surely kno...</td>\n",
              "      <td>Good</td>\n",
              "    </tr>\n",
              "    <tr>\n",
              "      <th>20</th>\n",
              "      <td>James Cameron has big ideas and big visions. T...</td>\n",
              "      <td>Good</td>\n",
              "    </tr>\n",
              "    <tr>\n",
              "      <th>21</th>\n",
              "      <td>Just finished watching this movie with my mom ...</td>\n",
              "      <td>Good</td>\n",
              "    </tr>\n",
              "    <tr>\n",
              "      <th>22</th>\n",
              "      <td>This film is about the invasion of humans into...</td>\n",
              "      <td>Good</td>\n",
              "    </tr>\n",
              "    <tr>\n",
              "      <th>23</th>\n",
              "      <td>James Cameron's science-fiction epic is his fi...</td>\n",
              "      <td>Good</td>\n",
              "    </tr>\n",
              "    <tr>\n",
              "      <th>24</th>\n",
              "      <td>Avatar is an epic science fiction film written...</td>\n",
              "      <td>Good</td>\n",
              "    </tr>\n",
              "  </tbody>\n",
              "</table>\n",
              "</div>\n",
              "      <button class=\"colab-df-convert\" onclick=\"convertToInteractive('df-fbbd0fa3-29ad-402a-aba8-ac219022e459')\"\n",
              "              title=\"Convert this dataframe to an interactive table.\"\n",
              "              style=\"display:none;\">\n",
              "        \n",
              "  <svg xmlns=\"http://www.w3.org/2000/svg\" height=\"24px\"viewBox=\"0 0 24 24\"\n",
              "       width=\"24px\">\n",
              "    <path d=\"M0 0h24v24H0V0z\" fill=\"none\"/>\n",
              "    <path d=\"M18.56 5.44l.94 2.06.94-2.06 2.06-.94-2.06-.94-.94-2.06-.94 2.06-2.06.94zm-11 1L8.5 8.5l.94-2.06 2.06-.94-2.06-.94L8.5 2.5l-.94 2.06-2.06.94zm10 10l.94 2.06.94-2.06 2.06-.94-2.06-.94-.94-2.06-.94 2.06-2.06.94z\"/><path d=\"M17.41 7.96l-1.37-1.37c-.4-.4-.92-.59-1.43-.59-.52 0-1.04.2-1.43.59L10.3 9.45l-7.72 7.72c-.78.78-.78 2.05 0 2.83L4 21.41c.39.39.9.59 1.41.59.51 0 1.02-.2 1.41-.59l7.78-7.78 2.81-2.81c.8-.78.8-2.07 0-2.86zM5.41 20L4 18.59l7.72-7.72 1.47 1.35L5.41 20z\"/>\n",
              "  </svg>\n",
              "      </button>\n",
              "      \n",
              "  <style>\n",
              "    .colab-df-container {\n",
              "      display:flex;\n",
              "      flex-wrap:wrap;\n",
              "      gap: 12px;\n",
              "    }\n",
              "\n",
              "    .colab-df-convert {\n",
              "      background-color: #E8F0FE;\n",
              "      border: none;\n",
              "      border-radius: 50%;\n",
              "      cursor: pointer;\n",
              "      display: none;\n",
              "      fill: #1967D2;\n",
              "      height: 32px;\n",
              "      padding: 0 0 0 0;\n",
              "      width: 32px;\n",
              "    }\n",
              "\n",
              "    .colab-df-convert:hover {\n",
              "      background-color: #E2EBFA;\n",
              "      box-shadow: 0px 1px 2px rgba(60, 64, 67, 0.3), 0px 1px 3px 1px rgba(60, 64, 67, 0.15);\n",
              "      fill: #174EA6;\n",
              "    }\n",
              "\n",
              "    [theme=dark] .colab-df-convert {\n",
              "      background-color: #3B4455;\n",
              "      fill: #D2E3FC;\n",
              "    }\n",
              "\n",
              "    [theme=dark] .colab-df-convert:hover {\n",
              "      background-color: #434B5C;\n",
              "      box-shadow: 0px 1px 3px 1px rgba(0, 0, 0, 0.15);\n",
              "      filter: drop-shadow(0px 1px 2px rgba(0, 0, 0, 0.3));\n",
              "      fill: #FFFFFF;\n",
              "    }\n",
              "  </style>\n",
              "\n",
              "      <script>\n",
              "        const buttonEl =\n",
              "          document.querySelector('#df-fbbd0fa3-29ad-402a-aba8-ac219022e459 button.colab-df-convert');\n",
              "        buttonEl.style.display =\n",
              "          google.colab.kernel.accessAllowed ? 'block' : 'none';\n",
              "\n",
              "        async function convertToInteractive(key) {\n",
              "          const element = document.querySelector('#df-fbbd0fa3-29ad-402a-aba8-ac219022e459');\n",
              "          const dataTable =\n",
              "            await google.colab.kernel.invokeFunction('convertToInteractive',\n",
              "                                                     [key], {});\n",
              "          if (!dataTable) return;\n",
              "\n",
              "          const docLinkHtml = 'Like what you see? Visit the ' +\n",
              "            '<a target=\"_blank\" href=https://colab.research.google.com/notebooks/data_table.ipynb>data table notebook</a>'\n",
              "            + ' to learn more about interactive tables.';\n",
              "          element.innerHTML = '';\n",
              "          dataTable['output_type'] = 'display_data';\n",
              "          await google.colab.output.renderOutput(dataTable, element);\n",
              "          const docLink = document.createElement('div');\n",
              "          docLink.innerHTML = docLinkHtml;\n",
              "          element.appendChild(docLink);\n",
              "        }\n",
              "      </script>\n",
              "    </div>\n",
              "  </div>\n",
              "  "
            ],
            "text/plain": [
              "                                              reviews sentiments\n",
              "0   As of today, there are 2675 reviews for \"Avata...       Good\n",
              "1   I did see Avatar for the first time a while ag...       Good\n",
              "2   It's impossible to watch AVATAR for the first ...       Good\n",
              "3   Avatar (2009) **** (out of 4)A paraplegic mari...       Good\n",
              "4   Marine Jake Sully (Sam Worthington) is paralyz...       Good\n",
              "5   This is a remarkable experience, like watching...       Good\n",
              "6   high technology. imaginative director. tastefu...       Good\n",
              "7   \"Avatar\" is an American movie from 2009 and st...        Bad\n",
              "8   I've been badgered to see this film for years,...       Good\n",
              "9   In a futuristic society ruled by the economica...       Good\n",
              "10  Although I was not too bothered about seeing A...        Bad\n",
              "11  Quite a lot has been said and written about th...       Good\n",
              "12  I have never, ever gone to a movie before base...       Good\n",
              "13  When his brother is killed in a robbery, parap...       Good\n",
              "14  Golden Globe winning, and Oscar and BAFTA nomi...       Good\n",
              "15  Well, after all the hype - and a chance to see...       Good\n",
              "16  Having heard the hype about how this was the g...        Bad\n",
              "17  This movie was a treat to the eye, and that wa...        Bad\n",
              "18  I wasn't going to bother seeing Avatar: I was ...       Good\n",
              "19  James Cameron has done it again. He surely kno...       Good\n",
              "20  James Cameron has big ideas and big visions. T...       Good\n",
              "21  Just finished watching this movie with my mom ...       Good\n",
              "22  This film is about the invasion of humans into...       Good\n",
              "23  James Cameron's science-fiction epic is his fi...       Good\n",
              "24  Avatar is an epic science fiction film written...       Good"
            ]
          },
          "metadata": {},
          "execution_count": 78
        }
      ]
    },
    {
      "cell_type": "code",
      "source": [
        "demo = reviews_full['reviews'][4]\n",
        "demo"
      ],
      "metadata": {
        "id": "x3ukobqjPG5_"
      },
      "execution_count": null,
      "outputs": []
    },
    {
      "cell_type": "code",
      "source": [
        "import nltk\n",
        "nltk.download('stopwords')\n",
        "nltk.download('punkt')\n",
        "stop_words = stopwords.words('english')"
      ],
      "metadata": {
        "colab": {
          "base_uri": "https://localhost:8080/"
        },
        "id": "yGY1DhxcbOaF",
        "outputId": "a3dcb7a6-2f5f-47d0-c6b9-d08ba0a30001"
      },
      "execution_count": null,
      "outputs": [
        {
          "output_type": "stream",
          "name": "stdout",
          "text": [
            "[nltk_data] Downloading package stopwords to /root/nltk_data...\n",
            "[nltk_data]   Package stopwords is already up-to-date!\n",
            "[nltk_data] Downloading package punkt to /root/nltk_data...\n",
            "[nltk_data]   Package punkt is already up-to-date!\n"
          ]
        }
      ]
    },
    {
      "cell_type": "code",
      "source": [
        "from string import  punctuation\n",
        "punctuation = punctuation + '\\n' + \"''\"+'``'\n",
        "punctuation"
      ],
      "metadata": {
        "colab": {
          "base_uri": "https://localhost:8080/",
          "height": 35
        },
        "id": "j4LDy-xzbmFg",
        "outputId": "0c5c1927-b474-442c-8359-387f85ab2289"
      },
      "execution_count": null,
      "outputs": [
        {
          "output_type": "execute_result",
          "data": {
            "application/vnd.google.colaboratory.intrinsic+json": {
              "type": "string"
            },
            "text/plain": [
              "'!\"#$%&\\'()*+,-./:;<=>?@[\\\\]^_`{|}~\\n\\'\\'``'"
            ]
          },
          "metadata": {},
          "execution_count": 197
        }
      ]
    },
    {
      "cell_type": "code",
      "source": [
        ""
      ],
      "metadata": {
        "id": "aKhBcWuk0TPe"
      },
      "execution_count": null,
      "outputs": []
    },
    {
      "cell_type": "code",
      "source": [
        "sentances = sent_tokenize(demo)\n",
        "tokens = word_tokenize(demo)\n",
        "word_freq={}\n",
        "for word in tokens:\n",
        "  if word.lower() not in punctuation:\n",
        "    if word.lower() not in stop_words:\n",
        "      if word not in word_freq.keys():\n",
        "        word_freq[word]=1\n",
        "      else:\n",
        "        word_freq[word]+=1\n",
        "word_freq    "
      ],
      "metadata": {
        "id": "ii3IYd7Qx9ty"
      },
      "execution_count": null,
      "outputs": []
    },
    {
      "cell_type": "code",
      "source": [
        "from nltk.tokenize import word_tokenize\n",
        "from nltk.tokenize import sent_tokenize\n",
        "sentances = sent_tokenize(demo)\n",
        "tokens = word_tokenize(demo)"
      ],
      "metadata": {
        "id": "4VMyzJ8PcHDe"
      },
      "execution_count": null,
      "outputs": []
    },
    {
      "cell_type": "code",
      "source": [
        "sentances"
      ],
      "metadata": {
        "id": "VlRcw4BCsNX1"
      },
      "execution_count": null,
      "outputs": []
    },
    {
      "cell_type": "code",
      "source": [
        "def summarizer(review):\n",
        "  sentances = sent_tokenize(review)\n",
        "  tokens = word_tokenize(review)\n",
        "  word_freq={}\n",
        "  for word in tokens:\n",
        "    if word.lower() not in punctuation:\n",
        "      if word.lower() not in stop_words:\n",
        "        if word not in word_freq.keys():\n",
        "          word_freq[word]=1\n",
        "        else:\n",
        "          word_freq[word]+=1\n",
        "  maximum_freq = max(word_freq.values())\n",
        "  for word in word_freq.keys():\n",
        "    word_freq[word] = word_freq[word] / maximum_freq\n",
        "\n",
        "  sentence_weigth = dict()\n",
        "  for sent in sentances:\n",
        "    sentence_wordcount = len(word_tokenize(sent))\n",
        "    sent_count_without_stopwords = 0\n",
        "    for word_weigth in word_freq:\n",
        "      if word_weigth in sent.lower():\n",
        "        sent_count_without_stopwords +=1\n",
        "        if sent in sentence_weigth:\n",
        "          sentence_weigth[sent] += word_freq[word_weigth]\n",
        "        else:\n",
        "          sentence_weigth[sent] = word_freq[word_weigth]\n",
        "    sentence_weigth[sent] = sentence_weigth[sent] \n",
        "  length = 1\n",
        "  summary = nlargest(length, sentence_weigth, key=sentence_weigth.get)\n",
        "  final_summary = [word for word in summary]\n",
        "  summary = ''.join(final_summary)\n",
        "  return summary"
      ],
      "metadata": {
        "id": "UHaKKInscsRG"
      },
      "execution_count": null,
      "outputs": []
    },
    {
      "cell_type": "code",
      "source": [
        "maximum_freq = max(word_freq.values())\n",
        "maximum_freq"
      ],
      "metadata": {
        "id": "TfzkOne8deoB",
        "colab": {
          "base_uri": "https://localhost:8080/"
        },
        "outputId": "92263c75-952a-4eb1-bf0f-ab1aee09edfd"
      },
      "execution_count": null,
      "outputs": [
        {
          "output_type": "execute_result",
          "data": {
            "text/plain": [
              "36"
            ]
          },
          "metadata": {},
          "execution_count": 238
        }
      ]
    },
    {
      "cell_type": "code",
      "source": [
        "for word in word_freq.keys():\n",
        "  word_freq[word] = word_freq[word] / maximum_freq"
      ],
      "metadata": {
        "id": "esAf1XBqdmnW"
      },
      "execution_count": null,
      "outputs": []
    },
    {
      "cell_type": "code",
      "source": [
        "word_freq"
      ],
      "metadata": {
        "id": "suQLGTpQqUWE"
      },
      "execution_count": null,
      "outputs": []
    },
    {
      "cell_type": "code",
      "source": [
        "sentances"
      ],
      "metadata": {
        "id": "2PmJhnuHhkLh"
      },
      "execution_count": null,
      "outputs": []
    },
    {
      "cell_type": "code",
      "source": [
        "demo"
      ],
      "metadata": {
        "colab": {
          "base_uri": "https://localhost:8080/",
          "height": 1000
        },
        "id": "mO4VN3Ne4jEX",
        "outputId": "c563b1b8-bf9f-4f5d-a324-e801858a8a67"
      },
      "execution_count": null,
      "outputs": [
        {
          "output_type": "execute_result",
          "data": {
            "application/vnd.google.colaboratory.intrinsic+json": {
              "type": "string"
            },
            "text/plain": [
              "'\"Spectre\" is the newest entry to the long-running and successful James Bond franchise. It is Daniel Craig\\'s fourth turn as the world\\'s most famous agent and the second time for Sam Mendes as director. The movie takes place basically right after the end of \"Skyfall\" and there are several references back to this third Daniel Craig Bond film, but also to the two films before that, mostly about Vesper Lynd, but also about LeChiffre. Judi Dench has a brief scene as M again and we find out what happened to Mr. White. But now that I mentioned M, let\\'s elaborate a bit on that. Ralph Fiennes is back in the role and he is a very different M than all the ones before him. He actually keeps firing and fighting, something you totally wouldn\\'t expect if you knew these characters from the old movies sitting behind their desk from 9 to 5 or longer. Then again, Fiennes\\' M has some kind of military background if I remember \"Skyfall\" correctly.The female main character is played by French actress Léa Seydoux and well, what can I say about her? I think she is a good actress and has stunning looks and I can totally see Bond falling for her. She looks breathtaking in this film, almost as good as in \"La belle et la bête\". The acting is above-par for Bond girls usually and she is doing a fine job with her character. Still, there are incongruences. She decides to leave Bond as she cannot live with another assassin, but quickly changes her mind, which destroys a strong farewell scene. And in the end, Bond chooses her and decides not to kill Blofeld and he says to Q that he is gone. Second time Craig\\'s Bond is deeply in love with Vesper Lynd being the first of course (let\\'s just ignore Tracy), and I wonder how they will elaborate on that story line. I hope she won\\'t get killed early in the next Bond film, but I guess they somehow have to come up with a story to get her out of the picture for Bond to return to MI6. It will be quite a challenge to make this one credible and not too similar to Lynd\\'s. If I hadn\\'t known that Craig will return, this actually could have been a very nice ending to his turn as James Bond with Blofeld finally not being able to take Bond\\'s most precious.I briefly mentioned Blofeld above and he is played by Christoph Waltz. I must say I like him as an actor, but by now, he feels very similar with his mannerisms in totally different characters he plays. His characters always have their very own brand of humour and it would actually be nice to see him as a completely serious character at some point. I found his Blofeld not as interesting as Mikkelsen\\'s LeChiffre or Bardem\\'s Silva, which is quite a pity as they tried so hard to make him more memorable with him being the head of Spectre of course and also with the whole brother story. Waltz\\' \"cuckoo\" was even a bit cringeworthy during their talk. The scene with Bond tied up in the chair and Blofeld acting like some psychopath scientist was really creepy though, almost a touch of \"Marathon Man\". And of course of Connery\\'s Goldfinger almost losing his balls to Auric\\'s laser in this classic movie back then.Let\\'s talk a bit about the henchmen: Wrestling legend Dave Bautista plays a character who does not really add something great to the story and does not even make sense. He comes into the room, kills apparently a high-profile aide of Blofeld and is still appreciated. I guess this was intended to show what a cold-blooded killer he is. But wasn\\'t he intended to perform the stadium attack in Mexico City? This was completely forgotten for the rest of the film. Still, he was fun and his final fight with Bond (and Swann) was a nice addition to the long history of memorable train fight sequences in Bond films. Generally, he had nice presence. Calling him a modern Jaws would be too much honor (Jaws would have survived falling out of the train for sure), but he was fine overall and they did great in letting him be quiet. That emphasized his cold-blooded ruthless character.\"Sherlock\" fans will appreciate the presence of Andrew Scott here. However, I must say that I did not find him too memorable. There is no denying he is a talented actor, but everything he did here he already did on \"Sherlock\" and not worse. Monica Bellucci was okay in her scene and shows us that Bond also has a weakness for older women. Ben Whishaw I remember not liking too much in previous films, but he was fine here as well. I am not yet too sure about the theme song this time, but it\\'s probably not among my favorites.All in all, this was a good movie and I highly recommend going to a theater to see it on a big screen, not on a small computer screen. Then again, I am probably biased because of how big a fan of the franchise I am. I think it\\'s worse than \"Casino Royale\" and \"Skyfall\", but better than \"Quantum of Solace\". One reason may be that the two I liked more have legendary locations, the ones in the title, and this one and \"Quantum of Solace\" do not. As a whole, this was not a great Bond film unfortunately, but a pretty good one with some nice inclusions and references to older films (Blofeld\\'s scar). I certainly recommend the watch, but I still hope that the next Bond film (with or without Mendes) will be truly great again.Okay, adding some stuff in December 2021 here: First of all, I really love Sam Smith\\'s theme song by now. It has grown on me a lot and I am truly happy for him that he got the Oscar for it too. I think they also should have used it more frequently during the fim. I mean the tune, the melody, not the voice of course. That would have been too much. It also worked so well with the intro and these faces from the past. What else? Oh yeah, the drilling scene is truly scary. I know I mentioned this in my original review already, but I found it truly haunting when watching today, especially the sound. I also mentioned the scene in which Bond decides not to kill Blofeld and this I liked because it was simply a nice reference way back to M\\'s words how an agent with a licence to kill also has a licence to not kill. And nobody would have blamed Bond really if he had killed Blofeld there. Also interesting parallel compared to the beginning when we see what happens if Bond is inside a helicopter and in the end when Bond\\' main antagonist is inside a helicopter. The thought on how trains have played a role in previous Bond films came to my mind again too. Pretty memorable fight and also kinda fitting for the two lovebirds to have their first real romantic encounter. Whishaw\\'s Q also made me smile a bit here and there I can\\'t deny, especially in his earlier scenes. We don\\'t really find out what happens next to Bellucci\\'s character as she is out of the picture quickly, but I personally would have preferred to see more from Sigman\\'s character. She is the one we see very early on. Despite Seydoux\\'s stunning presence and increased screen time towards the end, I liked the first half of this film maybe more. Her being taken prisoner by Blofeld was still a solid inclusion and the conflict the antagonist poses to Bond reminded me a bit of one with the Joker in Nolan\\'s Batman movie, but that\\'s an entirely different story. Ah yes, I must also mention the beautiful snow-covered landscapes in this film here. Incredibly nice to look at and I can see why Swann (fitting name with her dad being called White) tells Bond to not get distracted by the view. His reaction there was also not bad and funny and charming and insightful at the same time. We knew right away that there we have the key love interest of this movie. And not just this in fact.In addition to the nature, it can be said that while in most departments it felt more like a modern Bond film, the idea of all kinds of locations from all over the planet is a nice one. We have Mexico at the start. We have a great deal of the Alps. We have Italy. There\\'s even an ounce of South Africa. I think this is how it should be in pretty much every Bond movie. Of course, Bond gets around nicely, so he is even implanted a chip for his boss to be able to track him whenever he creates chaos and sinks the next priceless prototype car into a river. Still the chip idea is pretty scary. Closer to reality in 2021 than people might have thought over five years ago. But let\\'s not get into this. Ralph Fiennes deserves a few more mentions, like how early on you could think that Bond would become the main antagonist to Scott\\'s character, but in fact it\\'s Fiennes eventually with the two leader figures\\' very different ideas of how MI6 should be run. Traditional values, still with the help of modern aspects, against a completely new concept. You know of course who/what will prevail. I must say nonetheless that I did not expect a life-or-death scenario between those two. Comedy is like most of the time with Bond, especially with Craig\\'s Bond, a rarity. Actually, in the old Bond films, especially Moore\\'s, there were quite a few scenes and quotes that could make you laugh. Here there are virtually none. Q I mentioned already and it\\'s not just what he says, but also for example the awkwardness of how he is sitting up there with this weird fella in the mountains and how he always carries around his laptop. Bautista\\'s character\\'s final words were also intended as a bit of comic relief I suppose, but there\\'s really not much more. However, it was of course about Bond at the center of it, but how the other characters are included and even feel like a little gang at some point trying to come to Bond\\'s rescue was a bit strange. Not sure if I liked it. He did not need them anyway. Craig\\'s Bond is such a lone wolf, probably even more than everybody before him. Okay, that is it then. Just a few more additional throughts from my rewatch. I still think that now after Craig\\'s departure from the 007 universe, this fourth of his five films deserves to be seen, even if it is definitely not a contender for his best. Thumbs-up. (tt2379713)'"
            ]
          },
          "metadata": {},
          "execution_count": 252
        }
      ]
    },
    {
      "cell_type": "code",
      "source": [
        "'We have Italy.'"
      ],
      "metadata": {
        "id": "nuiiHLaX3uqw"
      },
      "execution_count": null,
      "outputs": []
    },
    {
      "cell_type": "code",
      "source": [
        "sentence_weigth = dict()\n",
        "\n",
        "for sent in sentances:\n",
        "  sentence_wordcount = len(word_tokenize(sent))\n",
        "  sent_count_without_stopwords = 0\n",
        "  for word_weigth in word_freq:\n",
        "    if word_weigth in sent.lower():\n",
        "      sent_count_without_stopwords +=1\n",
        "      if sent in sentence_weigth:\n",
        "        sentence_weigth[sent] += word_freq[word_weigth]\n",
        "      else:\n",
        "        sentence_weigth[sent] = word_freq[word_weigth]\n",
        "    \n",
        "  sentence_weigth[sent] = sentence_weigth[sent]\n",
        "\n"
      ],
      "metadata": {
        "id": "T-bRBZAIh1Tt",
        "colab": {
          "base_uri": "https://localhost:8080/",
          "height": 217
        },
        "outputId": "33c30d93-2a86-4ab6-be01-1cdf907c749d"
      },
      "execution_count": null,
      "outputs": [
        {
          "output_type": "error",
          "ename": "KeyError",
          "evalue": "ignored",
          "traceback": [
            "\u001b[0;31m---------------------------------------------------------------------------\u001b[0m",
            "\u001b[0;31mKeyError\u001b[0m                                  Traceback (most recent call last)",
            "\u001b[0;32m<ipython-input-253-4d2e64b897ba>\u001b[0m in \u001b[0;36m<module>\u001b[0;34m()\u001b[0m\n\u001b[1;32m     12\u001b[0m         \u001b[0msentence_weigth\u001b[0m\u001b[0;34m[\u001b[0m\u001b[0msent\u001b[0m\u001b[0;34m]\u001b[0m \u001b[0;34m=\u001b[0m \u001b[0mword_freq\u001b[0m\u001b[0;34m[\u001b[0m\u001b[0mword_weigth\u001b[0m\u001b[0;34m]\u001b[0m\u001b[0;34m\u001b[0m\u001b[0;34m\u001b[0m\u001b[0m\n\u001b[1;32m     13\u001b[0m \u001b[0;34m\u001b[0m\u001b[0m\n\u001b[0;32m---> 14\u001b[0;31m   \u001b[0msentence_weigth\u001b[0m\u001b[0;34m[\u001b[0m\u001b[0msent\u001b[0m\u001b[0;34m]\u001b[0m \u001b[0;34m=\u001b[0m \u001b[0msentence_weigth\u001b[0m\u001b[0;34m[\u001b[0m\u001b[0msent\u001b[0m\u001b[0;34m]\u001b[0m\u001b[0;34m\u001b[0m\u001b[0;34m\u001b[0m\u001b[0m\n\u001b[0m\u001b[1;32m     15\u001b[0m \u001b[0;34m\u001b[0m\u001b[0m\n",
            "\u001b[0;31mKeyError\u001b[0m: 'We have Italy.'"
          ]
        }
      ]
    },
    {
      "cell_type": "code",
      "source": [
        "sentence_weigth"
      ],
      "metadata": {
        "colab": {
          "base_uri": "https://localhost:8080/"
        },
        "id": "g4ypwSvGocrd",
        "outputId": "8bed831a-c719-4b16-edc6-d190cab796d6"
      },
      "execution_count": null,
      "outputs": [
        {
          "output_type": "execute_result",
          "data": {
            "text/plain": [
              "{'\"Spectre\" is no exception and provides an additional amusing situation, with the weirdo Daniel Craig seducing the gorgeous Léa Seydoux and Monica Bellucci without any chemistry.': 3.3333333333333335,\n",
              " 'My vote is seven.Title (Brazil): \"007 Contra Spectre\" (\"007 against Spectre\")': 1.3333333333333333,\n",
              " 'When the viewer watches any 007 franchise, he or she knows what is going to see: an entertaining full of action adventure, with beautiful women, car chase, conspiracy, great villains, predictable story and a brainless screenplay.': 7.9999999999999964}"
            ]
          },
          "metadata": {},
          "execution_count": 208
        }
      ]
    },
    {
      "cell_type": "code",
      "source": [
        "len(sentence_weigth)"
      ],
      "metadata": {
        "colab": {
          "base_uri": "https://localhost:8080/"
        },
        "id": "WL_oSRV9tTzP",
        "outputId": "c4efaf92-e98d-49cb-edc0-1012c0c87e3d"
      },
      "execution_count": null,
      "outputs": [
        {
          "output_type": "execute_result",
          "data": {
            "text/plain": [
              "3"
            ]
          },
          "metadata": {},
          "execution_count": 209
        }
      ]
    },
    {
      "cell_type": "code",
      "source": [
        "from heapq import nlargest"
      ],
      "metadata": {
        "id": "RVvOVo0Ro1na"
      },
      "execution_count": null,
      "outputs": []
    },
    {
      "cell_type": "code",
      "source": [
        " #top 30% weighted sentences\n",
        "length = 1 #int(len(sentence_weigth)*0.15)\n",
        "length"
      ],
      "metadata": {
        "colab": {
          "base_uri": "https://localhost:8080/"
        },
        "id": "ER-gBi7Jo1kO",
        "outputId": "b8e99450-649a-4886-a8c4-9a8670c55159"
      },
      "execution_count": null,
      "outputs": [
        {
          "output_type": "execute_result",
          "data": {
            "text/plain": [
              "1"
            ]
          },
          "metadata": {},
          "execution_count": 211
        }
      ]
    },
    {
      "cell_type": "code",
      "source": [
        "summary = nlargest(length, sentence_weigth, key=sentence_weigth.get)"
      ],
      "metadata": {
        "id": "appotS4Po1WV"
      },
      "execution_count": null,
      "outputs": []
    },
    {
      "cell_type": "code",
      "source": [
        "final_summary = [word for word in summary]\n",
        "summary = ''.join(final_summary)"
      ],
      "metadata": {
        "id": "qcJOI8cXo1Tn"
      },
      "execution_count": null,
      "outputs": []
    },
    {
      "cell_type": "code",
      "source": [
        "summary"
      ],
      "metadata": {
        "colab": {
          "base_uri": "https://localhost:8080/",
          "height": 53
        },
        "id": "qEG5PBOAp6CO",
        "outputId": "35328f09-ef09-4681-f970-f98960c0babd"
      },
      "execution_count": null,
      "outputs": [
        {
          "output_type": "execute_result",
          "data": {
            "application/vnd.google.colaboratory.intrinsic+json": {
              "type": "string"
            },
            "text/plain": [
              "'When the viewer watches any 007 franchise, he or she knows what is going to see: an entertaining full of action adventure, with beautiful women, car chase, conspiracy, great villains, predictable story and a brainless screenplay.'"
            ]
          },
          "metadata": {},
          "execution_count": 214
        }
      ]
    },
    {
      "cell_type": "code",
      "source": [
        "len(demo)\n"
      ],
      "metadata": {
        "colab": {
          "base_uri": "https://localhost:8080/"
        },
        "id": "C2gRd5HoqiLR",
        "outputId": "c8929cf8-a9ef-423a-ff28-ccdbacd02888"
      },
      "execution_count": null,
      "outputs": [
        {
          "output_type": "execute_result",
          "data": {
            "text/plain": [
              "1613"
            ]
          },
          "metadata": {},
          "execution_count": 145
        }
      ]
    },
    {
      "cell_type": "code",
      "source": [
        "len(summary)"
      ],
      "metadata": {
        "colab": {
          "base_uri": "https://localhost:8080/"
        },
        "id": "tlA_5zrvp7mk",
        "outputId": "cd75709c-fe2c-492b-df6f-ee861a3dfe02"
      },
      "execution_count": null,
      "outputs": [
        {
          "output_type": "execute_result",
          "data": {
            "text/plain": [
              "609"
            ]
          },
          "metadata": {},
          "execution_count": 151
        }
      ]
    },
    {
      "cell_type": "code",
      "source": [
        "demo = reviews_full['reviews'][5]"
      ],
      "metadata": {
        "id": "sODcALRSzh1U"
      },
      "execution_count": null,
      "outputs": []
    },
    {
      "cell_type": "code",
      "source": [
        "summarizer(reviews_full['reviews'][1])"
      ],
      "metadata": {
        "colab": {
          "base_uri": "https://localhost:8080/",
          "height": 70
        },
        "id": "iyvbjL_LzsWS",
        "outputId": "fff7c6bd-403c-4382-ebdc-54b6ef44239c"
      },
      "execution_count": null,
      "outputs": [
        {
          "output_type": "execute_result",
          "data": {
            "application/vnd.google.colaboratory.intrinsic+json": {
              "type": "string"
            },
            "text/plain": [
              "\"Following on from the success of SKYFALL, the latest James Bond flick sees both Daniel Craig and Sam Mendes returning to the franchise for a film which seems strangely old-fashioned, perhaps deliberately harking back to the classic days of Bond.SPECTRE isn't a perfect film by any sense, and the problems lie with the script.\""
            ]
          },
          "metadata": {},
          "execution_count": 178
        }
      ]
    },
    {
      "cell_type": "code",
      "source": [
        "def summarizer(review):\n",
        "  sentances = sent_tokenize(review)\n",
        "  tokens = word_tokenize(review)\n",
        "\n",
        "  word_freq={}\n",
        "  for word in tokens:\n",
        "    if word.lower() not in punctuation:\n",
        "      if word.lower() not in stop_words:\n",
        "        if word not in word_freq.keys():\n",
        "          word_freq[word]=1\n",
        "        else:\n",
        "          word_freq[word]+=1\n",
        "  \n",
        "  maximum_freq = max(word_freq.values())\n",
        "  for word in word_freq.keys():\n",
        "    word_freq[word] = word_freq[word] / maximum_freq\n",
        "\n",
        "  sentence_weigth = dict()\n",
        "  for sent in sentances:\n",
        "    sentence_wordcount = len(word_tokenize(sent))\n",
        "    sent_count_without_stopwords = 0\n",
        "    for word_weigth in word_freq:\n",
        "      if word_weigth in sent.lower():\n",
        "        sent_count_without_stopwords +=1\n",
        "        if sent in sentence_weigth:\n",
        "          sentence_weigth[sent] += word_freq[word_weigth]\n",
        "        else:\n",
        "          sentence_weigth[sent] = word_freq[word_weigth]\n",
        "    sentence_weigth[sent] = sentence_weigth[sent]\n",
        "\n",
        "    length = int(len(sentence_weigth)*0.07)\n",
        "\n",
        "  summary = nlargest(length, sentence_weigth, key=sentence_weigth.get)\n",
        "  final_summary = [word for word in summary]\n",
        "  summary = ''.join(final_summary)\n",
        "\n",
        "  return summary\n"
      ],
      "metadata": {
        "id": "AgXlOx6_qF98"
      },
      "execution_count": null,
      "outputs": []
    },
    {
      "cell_type": "code",
      "source": [
        "len(summarizer(demo))"
      ],
      "metadata": {
        "colab": {
          "base_uri": "https://localhost:8080/"
        },
        "id": "s3NecqulyOpP",
        "outputId": "3a3436a9-5bfd-430f-9ac4-8a8d677f114f"
      },
      "execution_count": null,
      "outputs": [
        {
          "output_type": "execute_result",
          "data": {
            "text/plain": [
              "407"
            ]
          },
          "metadata": {},
          "execution_count": 74
        }
      ]
    },
    {
      "cell_type": "code",
      "source": [
        "summarizer(demo)"
      ],
      "metadata": {
        "colab": {
          "base_uri": "https://localhost:8080/",
          "height": 72
        },
        "id": "JuH-gDS4yQOM",
        "outputId": "1c0eb5cb-86a6-4732-f783-db0450bd3ed8"
      },
      "execution_count": null,
      "outputs": [
        {
          "output_type": "execute_result",
          "data": {
            "application/vnd.google.colaboratory.intrinsic+json": {
              "type": "string"
            },
            "text/plain": [
              "\"Stephen Lang is an enjoyable and over-the-top villain of the piece too, however Sigourney Weaver is somewhat so-so, doesn't help really her character isn't that interesting while Michelle Rodriguez and Joel Moore aren't given very much to do.What didn't work so well is that Avatar's story, with themes of love in a time of chaos and man alone in a hostile environment, is rather simplistic and predictable.\""
            ]
          },
          "metadata": {},
          "execution_count": 75
        }
      ]
    },
    {
      "cell_type": "code",
      "source": [
        "review_full.head()\n",
        "review_full['sentiments'].value_counts().index"
      ],
      "metadata": {
        "id": "w_LJJPAw2Jqz",
        "colab": {
          "base_uri": "https://localhost:8080/"
        },
        "outputId": "6d01fb77-dcdd-4b83-a76c-15ede753d2e4"
      },
      "execution_count": null,
      "outputs": [
        {
          "output_type": "execute_result",
          "data": {
            "text/plain": [
              "Index(['Good', 'Bad'], dtype='object')"
            ]
          },
          "metadata": {},
          "execution_count": 84
        }
      ]
    },
    {
      "cell_type": "code",
      "source": [
        "import matplotlib.pyplot as plt\n",
        "import seaborn as sns\n",
        "values=review_full['sentiments'].value_counts().values\n",
        "labels = review_full['sentiments'].value_counts().index\n",
        "\n",
        "colors = ['green','red']\n",
        "\n",
        "#create pie chart\n",
        "plt.pie(values, labels = labels, colors = colors,explode=[0,0.1], autopct='%.0f%%')\n",
        "plt.savefig('pie.png', transparent=True)\n",
        "plt.show()"
      ],
      "metadata": {
        "colab": {
          "base_uri": "https://localhost:8080/",
          "height": 248
        },
        "id": "twB0cNzBQPGA",
        "outputId": "19f48e36-0115-4f83-8cea-f1ea59ba230e"
      },
      "execution_count": null,
      "outputs": [
        {
          "output_type": "display_data",
          "data": {
            "image/png": "[encoded data removed]",
            "text/plain": [
              "<Figure size 432x288 with 1 Axes>"
            ]
          },
          "metadata": {}
        }
      ]
    },
    {
      "cell_type": "code",
      "source": [
        "review_full.head(2)"
      ],
      "metadata": {
        "colab": {
          "base_uri": "https://localhost:8080/",
          "height": 112
        },
        "id": "kCovGkQDSBTm",
        "outputId": "7713dc70-f862-4857-e416-8a26d18b593a"
      },
      "execution_count": null,
      "outputs": [
        {
          "output_type": "execute_result",
          "data": {
            "text/html": [
              "\n",
              "  <div id=\"df-6896e7db-8646-4cae-94e8-2455ab9dc638\">\n",
              "    <div class=\"colab-df-container\">\n",
              "      <div>\n",
              "<style scoped>\n",
              "    .dataframe tbody tr th:only-of-type {\n",
              "        vertical-align: middle;\n",
              "    }\n",
              "\n",
              "    .dataframe tbody tr th {\n",
              "        vertical-align: top;\n",
              "    }\n",
              "\n",
              "    .dataframe thead th {\n",
              "        text-align: right;\n",
              "    }\n",
              "</style>\n",
              "<table border=\"1\" class=\"dataframe\">\n",
              "  <thead>\n",
              "    <tr style=\"text-align: right;\">\n",
              "      <th></th>\n",
              "      <th>reviews</th>\n",
              "      <th>sentiments</th>\n",
              "    </tr>\n",
              "  </thead>\n",
              "  <tbody>\n",
              "    <tr>\n",
              "      <th>0</th>\n",
              "      <td>As of today, there are 2675 reviews for \"Avata...</td>\n",
              "      <td>Good</td>\n",
              "    </tr>\n",
              "    <tr>\n",
              "      <th>1</th>\n",
              "      <td>I did see Avatar for the first time a while ag...</td>\n",
              "      <td>Good</td>\n",
              "    </tr>\n",
              "  </tbody>\n",
              "</table>\n",
              "</div>\n",
              "      <button class=\"colab-df-convert\" onclick=\"convertToInteractive('df-6896e7db-8646-4cae-94e8-2455ab9dc638')\"\n",
              "              title=\"Convert this dataframe to an interactive table.\"\n",
              "              style=\"display:none;\">\n",
              "        \n",
              "  <svg xmlns=\"http://www.w3.org/2000/svg\" height=\"24px\"viewBox=\"0 0 24 24\"\n",
              "       width=\"24px\">\n",
              "    <path d=\"M0 0h24v24H0V0z\" fill=\"none\"/>\n",
              "    <path d=\"M18.56 5.44l.94 2.06.94-2.06 2.06-.94-2.06-.94-.94-2.06-.94 2.06-2.06.94zm-11 1L8.5 8.5l.94-2.06 2.06-.94-2.06-.94L8.5 2.5l-.94 2.06-2.06.94zm10 10l.94 2.06.94-2.06 2.06-.94-2.06-.94-.94-2.06-.94 2.06-2.06.94z\"/><path d=\"M17.41 7.96l-1.37-1.37c-.4-.4-.92-.59-1.43-.59-.52 0-1.04.2-1.43.59L10.3 9.45l-7.72 7.72c-.78.78-.78 2.05 0 2.83L4 21.41c.39.39.9.59 1.41.59.51 0 1.02-.2 1.41-.59l7.78-7.78 2.81-2.81c.8-.78.8-2.07 0-2.86zM5.41 20L4 18.59l7.72-7.72 1.47 1.35L5.41 20z\"/>\n",
              "  </svg>\n",
              "      </button>\n",
              "      \n",
              "  <style>\n",
              "    .colab-df-container {\n",
              "      display:flex;\n",
              "      flex-wrap:wrap;\n",
              "      gap: 12px;\n",
              "    }\n",
              "\n",
              "    .colab-df-convert {\n",
              "      background-color: #E8F0FE;\n",
              "      border: none;\n",
              "      border-radius: 50%;\n",
              "      cursor: pointer;\n",
              "      display: none;\n",
              "      fill: #1967D2;\n",
              "      height: 32px;\n",
              "      padding: 0 0 0 0;\n",
              "      width: 32px;\n",
              "    }\n",
              "\n",
              "    .colab-df-convert:hover {\n",
              "      background-color: #E2EBFA;\n",
              "      box-shadow: 0px 1px 2px rgba(60, 64, 67, 0.3), 0px 1px 3px 1px rgba(60, 64, 67, 0.15);\n",
              "      fill: #174EA6;\n",
              "    }\n",
              "\n",
              "    [theme=dark] .colab-df-convert {\n",
              "      background-color: #3B4455;\n",
              "      fill: #D2E3FC;\n",
              "    }\n",
              "\n",
              "    [theme=dark] .colab-df-convert:hover {\n",
              "      background-color: #434B5C;\n",
              "      box-shadow: 0px 1px 3px 1px rgba(0, 0, 0, 0.15);\n",
              "      filter: drop-shadow(0px 1px 2px rgba(0, 0, 0, 0.3));\n",
              "      fill: #FFFFFF;\n",
              "    }\n",
              "  </style>\n",
              "\n",
              "      <script>\n",
              "        const buttonEl =\n",
              "          document.querySelector('#df-6896e7db-8646-4cae-94e8-2455ab9dc638 button.colab-df-convert');\n",
              "        buttonEl.style.display =\n",
              "          google.colab.kernel.accessAllowed ? 'block' : 'none';\n",
              "\n",
              "        async function convertToInteractive(key) {\n",
              "          const element = document.querySelector('#df-6896e7db-8646-4cae-94e8-2455ab9dc638');\n",
              "          const dataTable =\n",
              "            await google.colab.kernel.invokeFunction('convertToInteractive',\n",
              "                                                     [key], {});\n",
              "          if (!dataTable) return;\n",
              "\n",
              "          const docLinkHtml = 'Like what you see? Visit the ' +\n",
              "            '<a target=\"_blank\" href=https://colab.research.google.com/notebooks/data_table.ipynb>data table notebook</a>'\n",
              "            + ' to learn more about interactive tables.';\n",
              "          element.innerHTML = '';\n",
              "          dataTable['output_type'] = 'display_data';\n",
              "          await google.colab.output.renderOutput(dataTable, element);\n",
              "          const docLink = document.createElement('div');\n",
              "          docLink.innerHTML = docLinkHtml;\n",
              "          element.appendChild(docLink);\n",
              "        }\n",
              "      </script>\n",
              "    </div>\n",
              "  </div>\n",
              "  "
            ],
            "text/plain": [
              "                                             reviews sentiments\n",
              "0  As of today, there are 2675 reviews for \"Avata...       Good\n",
              "1  I did see Avatar for the first time a while ag...       Good"
            ]
          },
          "metadata": {},
          "execution_count": 91
        }
      ]
    },
    {
      "cell_type": "code",
      "source": [
        "details = get_info('Avatar 2')\n",
        "imdb_id = details['imdb_id']\n",
        "imdb_id"
      ],
      "metadata": {
        "colab": {
          "base_uri": "https://localhost:8080/",
          "height": 35
        },
        "id": "JmBh6z_9VNG1",
        "outputId": "320d2ba6-921c-4d60-c320-927e472a9bb8"
      },
      "execution_count": null,
      "outputs": [
        {
          "output_type": "execute_result",
          "data": {
            "application/vnd.google.colaboratory.intrinsic+json": {
              "type": "string"
            },
            "text/plain": [
              "'tt1630029'"
            ]
          },
          "metadata": {},
          "execution_count": 39
        }
      ]
    },
    {
      "cell_type": "code",
      "source": [
        "!pip install urlextract"
      ],
      "metadata": {
        "colab": {
          "base_uri": "https://localhost:8080/"
        },
        "id": "kYkuS9IkL9jc",
        "outputId": "29eec73a-020b-4213-ecb1-e143b34fe456"
      },
      "execution_count": null,
      "outputs": [
        {
          "output_type": "stream",
          "name": "stdout",
          "text": [
            "Collecting urlextract\n",
            "  Downloading urlextract-1.5.0-py3-none-any.whl (20 kB)\n",
            "Collecting platformdirs\n",
            "  Downloading platformdirs-2.4.1-py3-none-any.whl (14 kB)\n",
            "Requirement already satisfied: filelock in /usr/local/lib/python3.7/dist-packages (from urlextract) (3.4.2)\n",
            "Requirement already satisfied: idna in /usr/local/lib/python3.7/dist-packages (from urlextract) (2.10)\n",
            "Collecting uritools\n",
            "  Downloading uritools-4.0.0-py3-none-any.whl (10 kB)\n",
            "Installing collected packages: uritools, platformdirs, urlextract\n",
            "Successfully installed platformdirs-2.4.1 uritools-4.0.0 urlextract-1.5.0\n"
          ]
        }
      ]
    },
    {
      "cell_type": "code",
      "source": [
        "from urlextract import URLExtract\n",
        "text = 'gmail.com,jnosfjniwerjglwsnkvl youtube.org'\n",
        "extractor = URLExtract()\n",
        "extractor.find_urls(str(soup_result[0]))"
      ],
      "metadata": {
        "id": "R2skREWHNYwA",
        "colab": {
          "base_uri": "https://localhost:8080/"
        },
        "outputId": "c735bf7f-3400-4796-81d5-8a5d8241d6a2"
      },
      "execution_count": null,
      "outputs": [
        {
          "output_type": "execute_result",
          "data": {
            "text/plain": [
              "['https://m.media-amazon.com/images/M/MV5BNDU1NjU0MzA5NF5BMl5BanBnXkFtZTgwNTg5OTY2MjI@._V1_UY317_CR10,0,214,317_AL_.jpg']"
            ]
          },
          "metadata": {},
          "execution_count": 22
        }
      ]
    },
    {
      "cell_type": "code",
      "source": [
        "import re"
      ],
      "metadata": {
        "id": "4zz9qYREQwb3"
      },
      "execution_count": null,
      "outputs": []
    },
    {
      "cell_type": "code",
      "source": [
        "sauce = urllib.request.urlopen(f'https://www.imdb.com/name/nm094177/?ref_=tt_ov_st').read()\n",
        "soup = bs.BeautifulSoup(sauce,'lxml')\n",
        "soup_result = soup.find_all(\"div\",{\"class\":\"image\"})\n",
        "castposter = []\n",
        "extractor.find_urls(str(soup_result[0]))\n",
        "# for i in range(1):\n",
        "#   pattern = '[a-zA-Z]{2}\\d{6}'\n",
        "#   id = re.findall(pattern,str(soup_result[i])).pop()\n",
        "#   sauce2 = urllib.request.urlopen(f'https://www.imdb.com/name/{id}/?ref_=ttfc_fc_cl_t2').read()\n",
        "#   soup2 = bs.BeautifulSoup(sauce,'lxml')\n",
        "#   poster = soup.find_all(\"div\",{\"class\":\"poster-hero-container\"})\n",
        "#   print(poster)\n"
      ],
      "metadata": {
        "id": "akSIFYtZOHLr",
        "colab": {
          "base_uri": "https://localhost:8080/",
          "height": 396
        },
        "outputId": "6ca4205b-04a3-43dc-ba27-f13bc195e3a2"
      },
      "execution_count": null,
      "outputs": [
        {
          "output_type": "error",
          "ename": "HTTPError",
          "evalue": "ignored",
          "traceback": [
            "\u001b[0;31m---------------------------------------------------------------------------\u001b[0m",
            "\u001b[0;31mHTTPError\u001b[0m                                 Traceback (most recent call last)",
            "\u001b[0;32m<ipython-input-24-6ecd0e4059b8>\u001b[0m in \u001b[0;36m<module>\u001b[0;34m()\u001b[0m\n\u001b[0;32m----> 1\u001b[0;31m \u001b[0msauce\u001b[0m \u001b[0;34m=\u001b[0m \u001b[0murllib\u001b[0m\u001b[0;34m.\u001b[0m\u001b[0mrequest\u001b[0m\u001b[0;34m.\u001b[0m\u001b[0murlopen\u001b[0m\u001b[0;34m(\u001b[0m\u001b[0;34mf'https://www.imdb.com/name/nm094177/?ref_=tt_ov_st'\u001b[0m\u001b[0;34m)\u001b[0m\u001b[0;34m.\u001b[0m\u001b[0mread\u001b[0m\u001b[0;34m(\u001b[0m\u001b[0;34m)\u001b[0m\u001b[0;34m\u001b[0m\u001b[0;34m\u001b[0m\u001b[0m\n\u001b[0m\u001b[1;32m      2\u001b[0m \u001b[0msoup\u001b[0m \u001b[0;34m=\u001b[0m \u001b[0mbs\u001b[0m\u001b[0;34m.\u001b[0m\u001b[0mBeautifulSoup\u001b[0m\u001b[0;34m(\u001b[0m\u001b[0msauce\u001b[0m\u001b[0;34m,\u001b[0m\u001b[0;34m'lxml'\u001b[0m\u001b[0;34m)\u001b[0m\u001b[0;34m\u001b[0m\u001b[0;34m\u001b[0m\u001b[0m\n\u001b[1;32m      3\u001b[0m \u001b[0msoup_result\u001b[0m \u001b[0;34m=\u001b[0m \u001b[0msoup\u001b[0m\u001b[0;34m.\u001b[0m\u001b[0mfind_all\u001b[0m\u001b[0;34m(\u001b[0m\u001b[0;34m\"div\"\u001b[0m\u001b[0;34m,\u001b[0m\u001b[0;34m{\u001b[0m\u001b[0;34m\"class\"\u001b[0m\u001b[0;34m:\u001b[0m\u001b[0;34m\"image\"\u001b[0m\u001b[0;34m}\u001b[0m\u001b[0;34m)\u001b[0m\u001b[0;34m\u001b[0m\u001b[0;34m\u001b[0m\u001b[0m\n\u001b[1;32m      4\u001b[0m \u001b[0mcastposter\u001b[0m \u001b[0;34m=\u001b[0m \u001b[0;34m[\u001b[0m\u001b[0;34m]\u001b[0m\u001b[0;34m\u001b[0m\u001b[0;34m\u001b[0m\u001b[0m\n\u001b[1;32m      5\u001b[0m \u001b[0mextractor\u001b[0m\u001b[0;34m.\u001b[0m\u001b[0mfind_urls\u001b[0m\u001b[0;34m(\u001b[0m\u001b[0mstr\u001b[0m\u001b[0;34m(\u001b[0m\u001b[0msoup_result\u001b[0m\u001b[0;34m[\u001b[0m\u001b[0;36m0\u001b[0m\u001b[0;34m]\u001b[0m\u001b[0;34m)\u001b[0m\u001b[0;34m)\u001b[0m\u001b[0;34m\u001b[0m\u001b[0;34m\u001b[0m\u001b[0m\n",
            "\u001b[0;32m/usr/lib/python3.7/urllib/request.py\u001b[0m in \u001b[0;36murlopen\u001b[0;34m(url, data, timeout, cafile, capath, cadefault, context)\u001b[0m\n\u001b[1;32m    220\u001b[0m     \u001b[0;32melse\u001b[0m\u001b[0;34m:\u001b[0m\u001b[0;34m\u001b[0m\u001b[0;34m\u001b[0m\u001b[0m\n\u001b[1;32m    221\u001b[0m         \u001b[0mopener\u001b[0m \u001b[0;34m=\u001b[0m \u001b[0m_opener\u001b[0m\u001b[0;34m\u001b[0m\u001b[0;34m\u001b[0m\u001b[0m\n\u001b[0;32m--> 222\u001b[0;31m     \u001b[0;32mreturn\u001b[0m \u001b[0mopener\u001b[0m\u001b[0;34m.\u001b[0m\u001b[0mopen\u001b[0m\u001b[0;34m(\u001b[0m\u001b[0murl\u001b[0m\u001b[0;34m,\u001b[0m \u001b[0mdata\u001b[0m\u001b[0;34m,\u001b[0m \u001b[0mtimeout\u001b[0m\u001b[0;34m)\u001b[0m\u001b[0;34m\u001b[0m\u001b[0;34m\u001b[0m\u001b[0m\n\u001b[0m\u001b[1;32m    223\u001b[0m \u001b[0;34m\u001b[0m\u001b[0m\n\u001b[1;32m    224\u001b[0m \u001b[0;32mdef\u001b[0m \u001b[0minstall_opener\u001b[0m\u001b[0;34m(\u001b[0m\u001b[0mopener\u001b[0m\u001b[0;34m)\u001b[0m\u001b[0;34m:\u001b[0m\u001b[0;34m\u001b[0m\u001b[0;34m\u001b[0m\u001b[0m\n",
            "\u001b[0;32m/usr/lib/python3.7/urllib/request.py\u001b[0m in \u001b[0;36mopen\u001b[0;34m(self, fullurl, data, timeout)\u001b[0m\n\u001b[1;32m    529\u001b[0m         \u001b[0;32mfor\u001b[0m \u001b[0mprocessor\u001b[0m \u001b[0;32min\u001b[0m \u001b[0mself\u001b[0m\u001b[0;34m.\u001b[0m\u001b[0mprocess_response\u001b[0m\u001b[0;34m.\u001b[0m\u001b[0mget\u001b[0m\u001b[0;34m(\u001b[0m\u001b[0mprotocol\u001b[0m\u001b[0;34m,\u001b[0m \u001b[0;34m[\u001b[0m\u001b[0;34m]\u001b[0m\u001b[0;34m)\u001b[0m\u001b[0;34m:\u001b[0m\u001b[0;34m\u001b[0m\u001b[0;34m\u001b[0m\u001b[0m\n\u001b[1;32m    530\u001b[0m             \u001b[0mmeth\u001b[0m \u001b[0;34m=\u001b[0m \u001b[0mgetattr\u001b[0m\u001b[0;34m(\u001b[0m\u001b[0mprocessor\u001b[0m\u001b[0;34m,\u001b[0m \u001b[0mmeth_name\u001b[0m\u001b[0;34m)\u001b[0m\u001b[0;34m\u001b[0m\u001b[0;34m\u001b[0m\u001b[0m\n\u001b[0;32m--> 531\u001b[0;31m             \u001b[0mresponse\u001b[0m \u001b[0;34m=\u001b[0m \u001b[0mmeth\u001b[0m\u001b[0;34m(\u001b[0m\u001b[0mreq\u001b[0m\u001b[0;34m,\u001b[0m \u001b[0mresponse\u001b[0m\u001b[0;34m)\u001b[0m\u001b[0;34m\u001b[0m\u001b[0;34m\u001b[0m\u001b[0m\n\u001b[0m\u001b[1;32m    532\u001b[0m \u001b[0;34m\u001b[0m\u001b[0m\n\u001b[1;32m    533\u001b[0m         \u001b[0;32mreturn\u001b[0m \u001b[0mresponse\u001b[0m\u001b[0;34m\u001b[0m\u001b[0;34m\u001b[0m\u001b[0m\n",
            "\u001b[0;32m/usr/lib/python3.7/urllib/request.py\u001b[0m in \u001b[0;36mhttp_response\u001b[0;34m(self, request, response)\u001b[0m\n\u001b[1;32m    639\u001b[0m         \u001b[0;32mif\u001b[0m \u001b[0;32mnot\u001b[0m \u001b[0;34m(\u001b[0m\u001b[0;36m200\u001b[0m \u001b[0;34m<=\u001b[0m \u001b[0mcode\u001b[0m \u001b[0;34m<\u001b[0m \u001b[0;36m300\u001b[0m\u001b[0;34m)\u001b[0m\u001b[0;34m:\u001b[0m\u001b[0;34m\u001b[0m\u001b[0;34m\u001b[0m\u001b[0m\n\u001b[1;32m    640\u001b[0m             response = self.parent.error(\n\u001b[0;32m--> 641\u001b[0;31m                 'http', request, response, code, msg, hdrs)\n\u001b[0m\u001b[1;32m    642\u001b[0m \u001b[0;34m\u001b[0m\u001b[0m\n\u001b[1;32m    643\u001b[0m         \u001b[0;32mreturn\u001b[0m \u001b[0mresponse\u001b[0m\u001b[0;34m\u001b[0m\u001b[0;34m\u001b[0m\u001b[0m\n",
            "\u001b[0;32m/usr/lib/python3.7/urllib/request.py\u001b[0m in \u001b[0;36merror\u001b[0;34m(self, proto, *args)\u001b[0m\n\u001b[1;32m    567\u001b[0m         \u001b[0;32mif\u001b[0m \u001b[0mhttp_err\u001b[0m\u001b[0;34m:\u001b[0m\u001b[0;34m\u001b[0m\u001b[0;34m\u001b[0m\u001b[0m\n\u001b[1;32m    568\u001b[0m             \u001b[0margs\u001b[0m \u001b[0;34m=\u001b[0m \u001b[0;34m(\u001b[0m\u001b[0mdict\u001b[0m\u001b[0;34m,\u001b[0m \u001b[0;34m'default'\u001b[0m\u001b[0;34m,\u001b[0m \u001b[0;34m'http_error_default'\u001b[0m\u001b[0;34m)\u001b[0m \u001b[0;34m+\u001b[0m \u001b[0morig_args\u001b[0m\u001b[0;34m\u001b[0m\u001b[0;34m\u001b[0m\u001b[0m\n\u001b[0;32m--> 569\u001b[0;31m             \u001b[0;32mreturn\u001b[0m \u001b[0mself\u001b[0m\u001b[0;34m.\u001b[0m\u001b[0m_call_chain\u001b[0m\u001b[0;34m(\u001b[0m\u001b[0;34m*\u001b[0m\u001b[0margs\u001b[0m\u001b[0;34m)\u001b[0m\u001b[0;34m\u001b[0m\u001b[0;34m\u001b[0m\u001b[0m\n\u001b[0m\u001b[1;32m    570\u001b[0m \u001b[0;34m\u001b[0m\u001b[0m\n\u001b[1;32m    571\u001b[0m \u001b[0;31m# XXX probably also want an abstract factory that knows when it makes\u001b[0m\u001b[0;34m\u001b[0m\u001b[0;34m\u001b[0m\u001b[0;34m\u001b[0m\u001b[0m\n",
            "\u001b[0;32m/usr/lib/python3.7/urllib/request.py\u001b[0m in \u001b[0;36m_call_chain\u001b[0;34m(self, chain, kind, meth_name, *args)\u001b[0m\n\u001b[1;32m    501\u001b[0m         \u001b[0;32mfor\u001b[0m \u001b[0mhandler\u001b[0m \u001b[0;32min\u001b[0m \u001b[0mhandlers\u001b[0m\u001b[0;34m:\u001b[0m\u001b[0;34m\u001b[0m\u001b[0;34m\u001b[0m\u001b[0m\n\u001b[1;32m    502\u001b[0m             \u001b[0mfunc\u001b[0m \u001b[0;34m=\u001b[0m \u001b[0mgetattr\u001b[0m\u001b[0;34m(\u001b[0m\u001b[0mhandler\u001b[0m\u001b[0;34m,\u001b[0m \u001b[0mmeth_name\u001b[0m\u001b[0;34m)\u001b[0m\u001b[0;34m\u001b[0m\u001b[0;34m\u001b[0m\u001b[0m\n\u001b[0;32m--> 503\u001b[0;31m             \u001b[0mresult\u001b[0m \u001b[0;34m=\u001b[0m \u001b[0mfunc\u001b[0m\u001b[0;34m(\u001b[0m\u001b[0;34m*\u001b[0m\u001b[0margs\u001b[0m\u001b[0;34m)\u001b[0m\u001b[0;34m\u001b[0m\u001b[0;34m\u001b[0m\u001b[0m\n\u001b[0m\u001b[1;32m    504\u001b[0m             \u001b[0;32mif\u001b[0m \u001b[0mresult\u001b[0m \u001b[0;32mis\u001b[0m \u001b[0;32mnot\u001b[0m \u001b[0;32mNone\u001b[0m\u001b[0;34m:\u001b[0m\u001b[0;34m\u001b[0m\u001b[0;34m\u001b[0m\u001b[0m\n\u001b[1;32m    505\u001b[0m                 \u001b[0;32mreturn\u001b[0m \u001b[0mresult\u001b[0m\u001b[0;34m\u001b[0m\u001b[0;34m\u001b[0m\u001b[0m\n",
            "\u001b[0;32m/usr/lib/python3.7/urllib/request.py\u001b[0m in \u001b[0;36mhttp_error_default\u001b[0;34m(self, req, fp, code, msg, hdrs)\u001b[0m\n\u001b[1;32m    647\u001b[0m \u001b[0;32mclass\u001b[0m \u001b[0mHTTPDefaultErrorHandler\u001b[0m\u001b[0;34m(\u001b[0m\u001b[0mBaseHandler\u001b[0m\u001b[0;34m)\u001b[0m\u001b[0;34m:\u001b[0m\u001b[0;34m\u001b[0m\u001b[0;34m\u001b[0m\u001b[0m\n\u001b[1;32m    648\u001b[0m     \u001b[0;32mdef\u001b[0m \u001b[0mhttp_error_default\u001b[0m\u001b[0;34m(\u001b[0m\u001b[0mself\u001b[0m\u001b[0;34m,\u001b[0m \u001b[0mreq\u001b[0m\u001b[0;34m,\u001b[0m \u001b[0mfp\u001b[0m\u001b[0;34m,\u001b[0m \u001b[0mcode\u001b[0m\u001b[0;34m,\u001b[0m \u001b[0mmsg\u001b[0m\u001b[0;34m,\u001b[0m \u001b[0mhdrs\u001b[0m\u001b[0;34m)\u001b[0m\u001b[0;34m:\u001b[0m\u001b[0;34m\u001b[0m\u001b[0;34m\u001b[0m\u001b[0m\n\u001b[0;32m--> 649\u001b[0;31m         \u001b[0;32mraise\u001b[0m \u001b[0mHTTPError\u001b[0m\u001b[0;34m(\u001b[0m\u001b[0mreq\u001b[0m\u001b[0;34m.\u001b[0m\u001b[0mfull_url\u001b[0m\u001b[0;34m,\u001b[0m \u001b[0mcode\u001b[0m\u001b[0;34m,\u001b[0m \u001b[0mmsg\u001b[0m\u001b[0;34m,\u001b[0m \u001b[0mhdrs\u001b[0m\u001b[0;34m,\u001b[0m \u001b[0mfp\u001b[0m\u001b[0;34m)\u001b[0m\u001b[0;34m\u001b[0m\u001b[0;34m\u001b[0m\u001b[0m\n\u001b[0m\u001b[1;32m    650\u001b[0m \u001b[0;34m\u001b[0m\u001b[0m\n\u001b[1;32m    651\u001b[0m \u001b[0;32mclass\u001b[0m \u001b[0mHTTPRedirectHandler\u001b[0m\u001b[0;34m(\u001b[0m\u001b[0mBaseHandler\u001b[0m\u001b[0;34m)\u001b[0m\u001b[0;34m:\u001b[0m\u001b[0;34m\u001b[0m\u001b[0;34m\u001b[0m\u001b[0m\n",
            "\u001b[0;31mHTTPError\u001b[0m: HTTP Error 404: "
          ]
        }
      ]
    },
    {
      "cell_type": "code",
      "source": [
        "for i in range(3):\n",
        "  pattern = '[a-zA-Z]{2}\\d{6}'\n",
        "  print(re.findall(pattern,str(soup_result[i])).pop())"
      ],
      "metadata": {
        "colab": {
          "base_uri": "https://localhost:8080/"
        },
        "id": "2l8gyfQQS5NR",
        "outputId": "296e690d-d6db-4c31-a4af-b0297b4d729e"
      },
      "execution_count": null,
      "outputs": [
        {
          "output_type": "stream",
          "name": "stdout",
          "text": [
            "nm094177\n",
            "nm075785\n",
            "nm000024\n"
          ]
        }
      ]
    },
    {
      "cell_type": "code",
      "source": [
        "sauce = urllib.request.urlopen(f'https://www.imdb.com/name/nm0695435/?ref_=tt_ov_st').read()\n",
        "soup = bs.BeautifulSoup(sauce,'lxml')\n",
        "soup_result = soup.find_all(\"div\",{\"class\":\"poster-hero-container\"})\n",
        "from urlextract import URLExtract\n",
        "soup_result[0]"
      ],
      "metadata": {
        "colab": {
          "base_uri": "https://localhost:8080/",
          "height": 372
        },
        "id": "NmEDKJMkQ-QF",
        "outputId": "c90bb64a-3c95-477c-d6c1-40359da36976"
      },
      "execution_count": null,
      "outputs": [
        {
          "output_type": "error",
          "ename": "ModuleNotFoundError",
          "evalue": "ignored",
          "traceback": [
            "\u001b[0;31m---------------------------------------------------------------------------\u001b[0m",
            "\u001b[0;31mModuleNotFoundError\u001b[0m                       Traceback (most recent call last)",
            "\u001b[0;32m<ipython-input-9-4a675cd2fd09>\u001b[0m in \u001b[0;36m<module>\u001b[0;34m()\u001b[0m\n\u001b[1;32m      2\u001b[0m \u001b[0msoup\u001b[0m \u001b[0;34m=\u001b[0m \u001b[0mbs\u001b[0m\u001b[0;34m.\u001b[0m\u001b[0mBeautifulSoup\u001b[0m\u001b[0;34m(\u001b[0m\u001b[0msauce\u001b[0m\u001b[0;34m,\u001b[0m\u001b[0;34m'lxml'\u001b[0m\u001b[0;34m)\u001b[0m\u001b[0;34m\u001b[0m\u001b[0;34m\u001b[0m\u001b[0m\n\u001b[1;32m      3\u001b[0m \u001b[0msoup_result\u001b[0m \u001b[0;34m=\u001b[0m \u001b[0msoup\u001b[0m\u001b[0;34m.\u001b[0m\u001b[0mfind_all\u001b[0m\u001b[0;34m(\u001b[0m\u001b[0;34m\"div\"\u001b[0m\u001b[0;34m,\u001b[0m\u001b[0;34m{\u001b[0m\u001b[0;34m\"class\"\u001b[0m\u001b[0;34m:\u001b[0m\u001b[0;34m\"poster-hero-container\"\u001b[0m\u001b[0;34m}\u001b[0m\u001b[0;34m)\u001b[0m\u001b[0;34m\u001b[0m\u001b[0;34m\u001b[0m\u001b[0m\n\u001b[0;32m----> 4\u001b[0;31m \u001b[0;32mfrom\u001b[0m \u001b[0murlextract\u001b[0m \u001b[0;32mimport\u001b[0m \u001b[0mURLExtract\u001b[0m\u001b[0;34m\u001b[0m\u001b[0;34m\u001b[0m\u001b[0m\n\u001b[0m\u001b[1;32m      5\u001b[0m \u001b[0msoup_result\u001b[0m\u001b[0;34m[\u001b[0m\u001b[0;36m0\u001b[0m\u001b[0;34m]\u001b[0m\u001b[0;34m\u001b[0m\u001b[0;34m\u001b[0m\u001b[0m\n",
            "\u001b[0;31mModuleNotFoundError\u001b[0m: No module named 'urlextract'",
            "",
            "\u001b[0;31m---------------------------------------------------------------------------\u001b[0;32m\nNOTE: If your import is failing due to a missing package, you can\nmanually install dependencies using either !pip or !apt.\n\nTo view examples of installing some common dependencies, click the\n\"Open Examples\" button below.\n\u001b[0;31m---------------------------------------------------------------------------\u001b[0m\n"
          ],
          "errorDetails": {
            "actions": [
              {
                "action": "open_url",
                "actionText": "Open Examples",
                "url": "/notebooks/snippets/importing_libraries.ipynb"
              }
            ]
          }
        }
      ]
    },
    {
      "cell_type": "code",
      "source": [
        "link = \"https://www.imdb.com/title/tt0499549/ratings/?ref_=tt_ov_rt\"\n",
        "df1 = pd.read_html(link, header=0)[1]\n",
        "df1"
      ],
      "metadata": {
        "colab": {
          "base_uri": "https://localhost:8080/",
          "height": 144
        },
        "id": "32hr4RdyR_by",
        "outputId": "e6f1ab6c-b2c9-4789-ba3f-71510efbe909"
      },
      "execution_count": null,
      "outputs": [
        {
          "output_type": "execute_result",
          "data": {
            "text/html": [
              "\n",
              "  <div id=\"df-9b0ce9e2-b5c9-405a-a5c1-3bac9dc7f2f4\">\n",
              "    <div class=\"colab-df-container\">\n",
              "      <div>\n",
              "<style scoped>\n",
              "    .dataframe tbody tr th:only-of-type {\n",
              "        vertical-align: middle;\n",
              "    }\n",
              "\n",
              "    .dataframe tbody tr th {\n",
              "        vertical-align: top;\n",
              "    }\n",
              "\n",
              "    .dataframe thead th {\n",
              "        text-align: right;\n",
              "    }\n",
              "</style>\n",
              "<table border=\"1\" class=\"dataframe\">\n",
              "  <thead>\n",
              "    <tr style=\"text-align: right;\">\n",
              "      <th></th>\n",
              "      <th>Unnamed: 0</th>\n",
              "      <th>All Ages</th>\n",
              "      <th>&lt;18</th>\n",
              "      <th>18-29</th>\n",
              "      <th>30-44</th>\n",
              "      <th>45+</th>\n",
              "    </tr>\n",
              "  </thead>\n",
              "  <tbody>\n",
              "    <tr>\n",
              "      <th>0</th>\n",
              "      <td>All</td>\n",
              "      <td>7.8  1,177,422</td>\n",
              "      <td>7.6  462</td>\n",
              "      <td>7.7  188,589</td>\n",
              "      <td>7.8  549,128</td>\n",
              "      <td>7.9  122,033</td>\n",
              "    </tr>\n",
              "    <tr>\n",
              "      <th>1</th>\n",
              "      <td>Males</td>\n",
              "      <td>7.8  732,553</td>\n",
              "      <td>7.5  326</td>\n",
              "      <td>7.7  140,557</td>\n",
              "      <td>7.8  446,272</td>\n",
              "      <td>7.9  101,238</td>\n",
              "    </tr>\n",
              "    <tr>\n",
              "      <th>2</th>\n",
              "      <td>Females</td>\n",
              "      <td>7.7  168,068</td>\n",
              "      <td>7.6  86</td>\n",
              "      <td>7.6  42,788</td>\n",
              "      <td>7.7  96,016</td>\n",
              "      <td>7.9  18,645</td>\n",
              "    </tr>\n",
              "  </tbody>\n",
              "</table>\n",
              "</div>\n",
              "      <button class=\"colab-df-convert\" onclick=\"convertToInteractive('df-9b0ce9e2-b5c9-405a-a5c1-3bac9dc7f2f4')\"\n",
              "              title=\"Convert this dataframe to an interactive table.\"\n",
              "              style=\"display:none;\">\n",
              "        \n",
              "  <svg xmlns=\"http://www.w3.org/2000/svg\" height=\"24px\"viewBox=\"0 0 24 24\"\n",
              "       width=\"24px\">\n",
              "    <path d=\"M0 0h24v24H0V0z\" fill=\"none\"/>\n",
              "    <path d=\"M18.56 5.44l.94 2.06.94-2.06 2.06-.94-2.06-.94-.94-2.06-.94 2.06-2.06.94zm-11 1L8.5 8.5l.94-2.06 2.06-.94-2.06-.94L8.5 2.5l-.94 2.06-2.06.94zm10 10l.94 2.06.94-2.06 2.06-.94-2.06-.94-.94-2.06-.94 2.06-2.06.94z\"/><path d=\"M17.41 7.96l-1.37-1.37c-.4-.4-.92-.59-1.43-.59-.52 0-1.04.2-1.43.59L10.3 9.45l-7.72 7.72c-.78.78-.78 2.05 0 2.83L4 21.41c.39.39.9.59 1.41.59.51 0 1.02-.2 1.41-.59l7.78-7.78 2.81-2.81c.8-.78.8-2.07 0-2.86zM5.41 20L4 18.59l7.72-7.72 1.47 1.35L5.41 20z\"/>\n",
              "  </svg>\n",
              "      </button>\n",
              "      \n",
              "  <style>\n",
              "    .colab-df-container {\n",
              "      display:flex;\n",
              "      flex-wrap:wrap;\n",
              "      gap: 12px;\n",
              "    }\n",
              "\n",
              "    .colab-df-convert {\n",
              "      background-color: #E8F0FE;\n",
              "      border: none;\n",
              "      border-radius: 50%;\n",
              "      cursor: pointer;\n",
              "      display: none;\n",
              "      fill: #1967D2;\n",
              "      height: 32px;\n",
              "      padding: 0 0 0 0;\n",
              "      width: 32px;\n",
              "    }\n",
              "\n",
              "    .colab-df-convert:hover {\n",
              "      background-color: #E2EBFA;\n",
              "      box-shadow: 0px 1px 2px rgba(60, 64, 67, 0.3), 0px 1px 3px 1px rgba(60, 64, 67, 0.15);\n",
              "      fill: #174EA6;\n",
              "    }\n",
              "\n",
              "    [theme=dark] .colab-df-convert {\n",
              "      background-color: #3B4455;\n",
              "      fill: #D2E3FC;\n",
              "    }\n",
              "\n",
              "    [theme=dark] .colab-df-convert:hover {\n",
              "      background-color: #434B5C;\n",
              "      box-shadow: 0px 1px 3px 1px rgba(0, 0, 0, 0.15);\n",
              "      filter: drop-shadow(0px 1px 2px rgba(0, 0, 0, 0.3));\n",
              "      fill: #FFFFFF;\n",
              "    }\n",
              "  </style>\n",
              "\n",
              "      <script>\n",
              "        const buttonEl =\n",
              "          document.querySelector('#df-9b0ce9e2-b5c9-405a-a5c1-3bac9dc7f2f4 button.colab-df-convert');\n",
              "        buttonEl.style.display =\n",
              "          google.colab.kernel.accessAllowed ? 'block' : 'none';\n",
              "\n",
              "        async function convertToInteractive(key) {\n",
              "          const element = document.querySelector('#df-9b0ce9e2-b5c9-405a-a5c1-3bac9dc7f2f4');\n",
              "          const dataTable =\n",
              "            await google.colab.kernel.invokeFunction('convertToInteractive',\n",
              "                                                     [key], {});\n",
              "          if (!dataTable) return;\n",
              "\n",
              "          const docLinkHtml = 'Like what you see? Visit the ' +\n",
              "            '<a target=\"_blank\" href=https://colab.research.google.com/notebooks/data_table.ipynb>data table notebook</a>'\n",
              "            + ' to learn more about interactive tables.';\n",
              "          element.innerHTML = '';\n",
              "          dataTable['output_type'] = 'display_data';\n",
              "          await google.colab.output.renderOutput(dataTable, element);\n",
              "          const docLink = document.createElement('div');\n",
              "          docLink.innerHTML = docLinkHtml;\n",
              "          element.appendChild(docLink);\n",
              "        }\n",
              "      </script>\n",
              "    </div>\n",
              "  </div>\n",
              "  "
            ],
            "text/plain": [
              "  Unnamed: 0        All Ages  ...         30-44           45+\n",
              "0        All  7.8  1,177,422  ...  7.8  549,128  7.9  122,033\n",
              "1      Males    7.8  732,553  ...  7.8  446,272  7.9  101,238\n",
              "2    Females    7.7  168,068  ...   7.7  96,016   7.9  18,645\n",
              "\n",
              "[3 rows x 6 columns]"
            ]
          },
          "metadata": {},
          "execution_count": 161
        }
      ]
    },
    {
      "cell_type": "code",
      "source": [
        "df1.rename(columns={'Unnamed: 0': 'Gender'}, inplace=True)"
      ],
      "metadata": {
        "id": "y2t4R73lflqn"
      },
      "execution_count": null,
      "outputs": []
    },
    {
      "cell_type": "code",
      "source": [
        "df1"
      ],
      "metadata": {
        "id": "Wt8-R_4rf0U2",
        "outputId": "f50d0b86-896a-4274-f5ab-5eb212a4153a",
        "colab": {
          "base_uri": "https://localhost:8080/",
          "height": 144
        }
      },
      "execution_count": null,
      "outputs": [
        {
          "output_type": "execute_result",
          "data": {
            "text/html": [
              "\n",
              "  <div id=\"df-2ccedc5a-b103-4f47-bc25-252ff327747d\">\n",
              "    <div class=\"colab-df-container\">\n",
              "      <div>\n",
              "<style scoped>\n",
              "    .dataframe tbody tr th:only-of-type {\n",
              "        vertical-align: middle;\n",
              "    }\n",
              "\n",
              "    .dataframe tbody tr th {\n",
              "        vertical-align: top;\n",
              "    }\n",
              "\n",
              "    .dataframe thead th {\n",
              "        text-align: right;\n",
              "    }\n",
              "</style>\n",
              "<table border=\"1\" class=\"dataframe\">\n",
              "  <thead>\n",
              "    <tr style=\"text-align: right;\">\n",
              "      <th></th>\n",
              "      <th>Gender</th>\n",
              "      <th>All Ages</th>\n",
              "      <th>&lt;18</th>\n",
              "      <th>18-29</th>\n",
              "      <th>30-44</th>\n",
              "      <th>45+</th>\n",
              "    </tr>\n",
              "  </thead>\n",
              "  <tbody>\n",
              "    <tr>\n",
              "      <th>0</th>\n",
              "      <td>All</td>\n",
              "      <td>7.8  1,177,422</td>\n",
              "      <td>7.6  462</td>\n",
              "      <td>7.7  188,589</td>\n",
              "      <td>7.8  549,128</td>\n",
              "      <td>7.9  122,033</td>\n",
              "    </tr>\n",
              "    <tr>\n",
              "      <th>1</th>\n",
              "      <td>Males</td>\n",
              "      <td>7.8  732,553</td>\n",
              "      <td>7.5  326</td>\n",
              "      <td>7.7  140,557</td>\n",
              "      <td>7.8  446,272</td>\n",
              "      <td>7.9  101,238</td>\n",
              "    </tr>\n",
              "    <tr>\n",
              "      <th>2</th>\n",
              "      <td>Females</td>\n",
              "      <td>7.7  168,068</td>\n",
              "      <td>7.6  86</td>\n",
              "      <td>7.6  42,788</td>\n",
              "      <td>7.7  96,016</td>\n",
              "      <td>7.9  18,645</td>\n",
              "    </tr>\n",
              "  </tbody>\n",
              "</table>\n",
              "</div>\n",
              "      <button class=\"colab-df-convert\" onclick=\"convertToInteractive('df-2ccedc5a-b103-4f47-bc25-252ff327747d')\"\n",
              "              title=\"Convert this dataframe to an interactive table.\"\n",
              "              style=\"display:none;\">\n",
              "        \n",
              "  <svg xmlns=\"http://www.w3.org/2000/svg\" height=\"24px\"viewBox=\"0 0 24 24\"\n",
              "       width=\"24px\">\n",
              "    <path d=\"M0 0h24v24H0V0z\" fill=\"none\"/>\n",
              "    <path d=\"M18.56 5.44l.94 2.06.94-2.06 2.06-.94-2.06-.94-.94-2.06-.94 2.06-2.06.94zm-11 1L8.5 8.5l.94-2.06 2.06-.94-2.06-.94L8.5 2.5l-.94 2.06-2.06.94zm10 10l.94 2.06.94-2.06 2.06-.94-2.06-.94-.94-2.06-.94 2.06-2.06.94z\"/><path d=\"M17.41 7.96l-1.37-1.37c-.4-.4-.92-.59-1.43-.59-.52 0-1.04.2-1.43.59L10.3 9.45l-7.72 7.72c-.78.78-.78 2.05 0 2.83L4 21.41c.39.39.9.59 1.41.59.51 0 1.02-.2 1.41-.59l7.78-7.78 2.81-2.81c.8-.78.8-2.07 0-2.86zM5.41 20L4 18.59l7.72-7.72 1.47 1.35L5.41 20z\"/>\n",
              "  </svg>\n",
              "      </button>\n",
              "      \n",
              "  <style>\n",
              "    .colab-df-container {\n",
              "      display:flex;\n",
              "      flex-wrap:wrap;\n",
              "      gap: 12px;\n",
              "    }\n",
              "\n",
              "    .colab-df-convert {\n",
              "      background-color: #E8F0FE;\n",
              "      border: none;\n",
              "      border-radius: 50%;\n",
              "      cursor: pointer;\n",
              "      display: none;\n",
              "      fill: #1967D2;\n",
              "      height: 32px;\n",
              "      padding: 0 0 0 0;\n",
              "      width: 32px;\n",
              "    }\n",
              "\n",
              "    .colab-df-convert:hover {\n",
              "      background-color: #E2EBFA;\n",
              "      box-shadow: 0px 1px 2px rgba(60, 64, 67, 0.3), 0px 1px 3px 1px rgba(60, 64, 67, 0.15);\n",
              "      fill: #174EA6;\n",
              "    }\n",
              "\n",
              "    [theme=dark] .colab-df-convert {\n",
              "      background-color: #3B4455;\n",
              "      fill: #D2E3FC;\n",
              "    }\n",
              "\n",
              "    [theme=dark] .colab-df-convert:hover {\n",
              "      background-color: #434B5C;\n",
              "      box-shadow: 0px 1px 3px 1px rgba(0, 0, 0, 0.15);\n",
              "      filter: drop-shadow(0px 1px 2px rgba(0, 0, 0, 0.3));\n",
              "      fill: #FFFFFF;\n",
              "    }\n",
              "  </style>\n",
              "\n",
              "      <script>\n",
              "        const buttonEl =\n",
              "          document.querySelector('#df-2ccedc5a-b103-4f47-bc25-252ff327747d button.colab-df-convert');\n",
              "        buttonEl.style.display =\n",
              "          google.colab.kernel.accessAllowed ? 'block' : 'none';\n",
              "\n",
              "        async function convertToInteractive(key) {\n",
              "          const element = document.querySelector('#df-2ccedc5a-b103-4f47-bc25-252ff327747d');\n",
              "          const dataTable =\n",
              "            await google.colab.kernel.invokeFunction('convertToInteractive',\n",
              "                                                     [key], {});\n",
              "          if (!dataTable) return;\n",
              "\n",
              "          const docLinkHtml = 'Like what you see? Visit the ' +\n",
              "            '<a target=\"_blank\" href=https://colab.research.google.com/notebooks/data_table.ipynb>data table notebook</a>'\n",
              "            + ' to learn more about interactive tables.';\n",
              "          element.innerHTML = '';\n",
              "          dataTable['output_type'] = 'display_data';\n",
              "          await google.colab.output.renderOutput(dataTable, element);\n",
              "          const docLink = document.createElement('div');\n",
              "          docLink.innerHTML = docLinkHtml;\n",
              "          element.appendChild(docLink);\n",
              "        }\n",
              "      </script>\n",
              "    </div>\n",
              "  </div>\n",
              "  "
            ],
            "text/plain": [
              "    Gender        All Ages       <18         18-29         30-44           45+\n",
              "0      All  7.8  1,177,422  7.6  462  7.7  188,589  7.8  549,128  7.9  122,033\n",
              "1    Males    7.8  732,553  7.5  326  7.7  140,557  7.8  446,272  7.9  101,238\n",
              "2  Females    7.7  168,068   7.6  86   7.6  42,788   7.7  96,016   7.9  18,645"
            ]
          },
          "metadata": {},
          "execution_count": 163
        }
      ]
    },
    {
      "cell_type": "code",
      "source": [
        "import re\n",
        "demo = df1['All Ages']\n",
        "str(demo)"
      ],
      "metadata": {
        "colab": {
          "base_uri": "https://localhost:8080/",
          "height": 35
        },
        "id": "3NSpW8WdaI10",
        "outputId": "6f79a07c-2c79-4301-9672-4e29ed3642f1"
      },
      "execution_count": null,
      "outputs": [
        {
          "output_type": "execute_result",
          "data": {
            "application/vnd.google.colaboratory.intrinsic+json": {
              "type": "string"
            },
            "text/plain": [
              "'0    7.8  1,177,413\\n1      7.8  732,550\\n2      7.7  168,068\\nName: All Ages, dtype: object'"
            ]
          },
          "metadata": {},
          "execution_count": 128
        }
      ]
    },
    {
      "cell_type": "code",
      "source": [
        "\n",
        "def splitter(obj):\n",
        "  decimal = '\\d*\\.\\d'\n",
        "  return re.findall(decimal,str(obj)"
      ],
      "metadata": {
        "id": "UanvX40oapYq"
      },
      "execution_count": null,
      "outputs": []
    },
    {
      "cell_type": "code",
      "source": [
        ""
      ],
      "metadata": {
        "id": "G5WUTUPTb84a"
      },
      "execution_count": null,
      "outputs": []
    },
    {
      "cell_type": "code",
      "source": [
        "df1['All Ages'] = df1['All Ages'].apply(splitter)\n",
        "df1['<18'] = df1['<18'].apply(splitter)\n",
        "df1['18-29'] = df1['18-29'].apply(splitter)\n",
        "df1['30-44'] = df1['30-44'].apply(splitter)\n",
        "df1['45+'] = df1['45+'].apply(splitter)                                     "
      ],
      "metadata": {
        "id": "Y1E0Aa9hc42J"
      },
      "execution_count": null,
      "outputs": []
    },
    {
      "cell_type": "code",
      "source": [
        "df1"
      ],
      "metadata": {
        "colab": {
          "base_uri": "https://localhost:8080/",
          "height": 144
        },
        "id": "Fi5sWHPFd2Yb",
        "outputId": "2a7e2d32-85e5-4d1b-d9b0-d8ceb27c160c"
      },
      "execution_count": null,
      "outputs": [
        {
          "output_type": "execute_result",
          "data": {
            "text/html": [
              "\n",
              "  <div id=\"df-997d4dea-bd0b-4b5e-9f9a-3febbfb42536\">\n",
              "    <div class=\"colab-df-container\">\n",
              "      <div>\n",
              "<style scoped>\n",
              "    .dataframe tbody tr th:only-of-type {\n",
              "        vertical-align: middle;\n",
              "    }\n",
              "\n",
              "    .dataframe tbody tr th {\n",
              "        vertical-align: top;\n",
              "    }\n",
              "\n",
              "    .dataframe thead th {\n",
              "        text-align: right;\n",
              "    }\n",
              "</style>\n",
              "<table border=\"1\" class=\"dataframe\">\n",
              "  <thead>\n",
              "    <tr style=\"text-align: right;\">\n",
              "      <th></th>\n",
              "      <th>Unnamed: 0</th>\n",
              "      <th>All Ages</th>\n",
              "      <th>&lt;18</th>\n",
              "      <th>18-29</th>\n",
              "      <th>30-44</th>\n",
              "      <th>45+</th>\n",
              "    </tr>\n",
              "  </thead>\n",
              "  <tbody>\n",
              "    <tr>\n",
              "      <th>0</th>\n",
              "      <td>All</td>\n",
              "      <td>[7.8]</td>\n",
              "      <td>[7.6]</td>\n",
              "      <td>[7.7]</td>\n",
              "      <td>[7.8]</td>\n",
              "      <td>[7.9]</td>\n",
              "    </tr>\n",
              "    <tr>\n",
              "      <th>1</th>\n",
              "      <td>Males</td>\n",
              "      <td>[7.8]</td>\n",
              "      <td>[7.5]</td>\n",
              "      <td>[7.7]</td>\n",
              "      <td>[7.8]</td>\n",
              "      <td>[7.9]</td>\n",
              "    </tr>\n",
              "    <tr>\n",
              "      <th>2</th>\n",
              "      <td>Females</td>\n",
              "      <td>[7.7]</td>\n",
              "      <td>[7.6]</td>\n",
              "      <td>[7.6]</td>\n",
              "      <td>[7.7]</td>\n",
              "      <td>[7.9]</td>\n",
              "    </tr>\n",
              "  </tbody>\n",
              "</table>\n",
              "</div>\n",
              "      <button class=\"colab-df-convert\" onclick=\"convertToInteractive('df-997d4dea-bd0b-4b5e-9f9a-3febbfb42536')\"\n",
              "              title=\"Convert this dataframe to an interactive table.\"\n",
              "              style=\"display:none;\">\n",
              "        \n",
              "  <svg xmlns=\"http://www.w3.org/2000/svg\" height=\"24px\"viewBox=\"0 0 24 24\"\n",
              "       width=\"24px\">\n",
              "    <path d=\"M0 0h24v24H0V0z\" fill=\"none\"/>\n",
              "    <path d=\"M18.56 5.44l.94 2.06.94-2.06 2.06-.94-2.06-.94-.94-2.06-.94 2.06-2.06.94zm-11 1L8.5 8.5l.94-2.06 2.06-.94-2.06-.94L8.5 2.5l-.94 2.06-2.06.94zm10 10l.94 2.06.94-2.06 2.06-.94-2.06-.94-.94-2.06-.94 2.06-2.06.94z\"/><path d=\"M17.41 7.96l-1.37-1.37c-.4-.4-.92-.59-1.43-.59-.52 0-1.04.2-1.43.59L10.3 9.45l-7.72 7.72c-.78.78-.78 2.05 0 2.83L4 21.41c.39.39.9.59 1.41.59.51 0 1.02-.2 1.41-.59l7.78-7.78 2.81-2.81c.8-.78.8-2.07 0-2.86zM5.41 20L4 18.59l7.72-7.72 1.47 1.35L5.41 20z\"/>\n",
              "  </svg>\n",
              "      </button>\n",
              "      \n",
              "  <style>\n",
              "    .colab-df-container {\n",
              "      display:flex;\n",
              "      flex-wrap:wrap;\n",
              "      gap: 12px;\n",
              "    }\n",
              "\n",
              "    .colab-df-convert {\n",
              "      background-color: #E8F0FE;\n",
              "      border: none;\n",
              "      border-radius: 50%;\n",
              "      cursor: pointer;\n",
              "      display: none;\n",
              "      fill: #1967D2;\n",
              "      height: 32px;\n",
              "      padding: 0 0 0 0;\n",
              "      width: 32px;\n",
              "    }\n",
              "\n",
              "    .colab-df-convert:hover {\n",
              "      background-color: #E2EBFA;\n",
              "      box-shadow: 0px 1px 2px rgba(60, 64, 67, 0.3), 0px 1px 3px 1px rgba(60, 64, 67, 0.15);\n",
              "      fill: #174EA6;\n",
              "    }\n",
              "\n",
              "    [theme=dark] .colab-df-convert {\n",
              "      background-color: #3B4455;\n",
              "      fill: #D2E3FC;\n",
              "    }\n",
              "\n",
              "    [theme=dark] .colab-df-convert:hover {\n",
              "      background-color: #434B5C;\n",
              "      box-shadow: 0px 1px 3px 1px rgba(0, 0, 0, 0.15);\n",
              "      filter: drop-shadow(0px 1px 2px rgba(0, 0, 0, 0.3));\n",
              "      fill: #FFFFFF;\n",
              "    }\n",
              "  </style>\n",
              "\n",
              "      <script>\n",
              "        const buttonEl =\n",
              "          document.querySelector('#df-997d4dea-bd0b-4b5e-9f9a-3febbfb42536 button.colab-df-convert');\n",
              "        buttonEl.style.display =\n",
              "          google.colab.kernel.accessAllowed ? 'block' : 'none';\n",
              "\n",
              "        async function convertToInteractive(key) {\n",
              "          const element = document.querySelector('#df-997d4dea-bd0b-4b5e-9f9a-3febbfb42536');\n",
              "          const dataTable =\n",
              "            await google.colab.kernel.invokeFunction('convertToInteractive',\n",
              "                                                     [key], {});\n",
              "          if (!dataTable) return;\n",
              "\n",
              "          const docLinkHtml = 'Like what you see? Visit the ' +\n",
              "            '<a target=\"_blank\" href=https://colab.research.google.com/notebooks/data_table.ipynb>data table notebook</a>'\n",
              "            + ' to learn more about interactive tables.';\n",
              "          element.innerHTML = '';\n",
              "          dataTable['output_type'] = 'display_data';\n",
              "          await google.colab.output.renderOutput(dataTable, element);\n",
              "          const docLink = document.createElement('div');\n",
              "          docLink.innerHTML = docLinkHtml;\n",
              "          element.appendChild(docLink);\n",
              "        }\n",
              "      </script>\n",
              "    </div>\n",
              "  </div>\n",
              "  "
            ],
            "text/plain": [
              "  Unnamed: 0 All Ages    <18  18-29  30-44    45+\n",
              "0        All    [7.8]  [7.6]  [7.7]  [7.8]  [7.9]\n",
              "1      Males    [7.8]  [7.5]  [7.7]  [7.8]  [7.9]\n",
              "2    Females    [7.7]  [7.6]  [7.6]  [7.7]  [7.9]"
            ]
          },
          "metadata": {},
          "execution_count": 156
        }
      ]
    },
    {
      "cell_type": "code",
      "source": [
        ""
      ],
      "metadata": {
        "id": "FSew4UZEfMjk"
      },
      "execution_count": null,
      "outputs": []
    },
    {
      "cell_type": "code",
      "source": [
        ""
      ],
      "metadata": {
        "id": "ZkwuQEFrph_l"
      },
      "execution_count": null,
      "outputs": []
    },
    {
      "cell_type": "markdown",
      "source": [
        "# Trials"
      ],
      "metadata": {
        "id": "zVmZMlU7pj4S"
      }
    },
    {
      "cell_type": "code",
      "source": [
        "!pip install tmdbv3api"
      ],
      "metadata": {
        "id": "SSCmLC9iqCBR",
        "colab": {
          "base_uri": "https://localhost:8080/"
        },
        "outputId": "f350fde8-0319-469a-d2ce-085b3d2ddcb6"
      },
      "execution_count": null,
      "outputs": [
        {
          "output_type": "stream",
          "name": "stdout",
          "text": [
            "Collecting tmdbv3api\n",
            "  Downloading tmdbv3api-1.7.6-py2.py3-none-any.whl (17 kB)\n",
            "Requirement already satisfied: requests in /usr/local/lib/python3.7/dist-packages (from tmdbv3api) (2.23.0)\n",
            "Requirement already satisfied: chardet<4,>=3.0.2 in /usr/local/lib/python3.7/dist-packages (from requests->tmdbv3api) (3.0.4)\n",
            "Requirement already satisfied: idna<3,>=2.5 in /usr/local/lib/python3.7/dist-packages (from requests->tmdbv3api) (2.10)\n",
            "Requirement already satisfied: urllib3!=1.25.0,!=1.25.1,<1.26,>=1.21.1 in /usr/local/lib/python3.7/dist-packages (from requests->tmdbv3api) (1.24.3)\n",
            "Requirement already satisfied: certifi>=2017.4.17 in /usr/local/lib/python3.7/dist-packages (from requests->tmdbv3api) (2021.10.8)\n",
            "Installing collected packages: tmdbv3api\n",
            "Successfully installed tmdbv3api-1.7.6\n"
          ]
        }
      ]
    },
    {
      "cell_type": "code",
      "source": [
        "import pickle\n",
        "import pandas as pd\n",
        "import numpy as np\n",
        "from tmdbv3api import TMDb\n",
        "from tmdbv3api import Movie\n",
        "import json\n",
        "import requests\n",
        "\n",
        "import json\n",
        "import bs4 as bs\n",
        "import urllib.request\n",
        "import nltk\n",
        "from nltk.corpus import stopwords\n",
        "from nltk.tokenize import word_tokenize\n",
        "from nltk.tokenize import sent_tokenize\n",
        "from string import  punctuation\n",
        "from heapq import nlargest"
      ],
      "metadata": {
        "id": "9vyG8H_Bpqgq"
      },
      "execution_count": null,
      "outputs": []
    },
    {
      "cell_type": "code",
      "source": [
        "punctuation = punctuation + '\\n'\n",
        "\n",
        "nltk.download('stopwords')\n",
        "nltk.download('punkt')\n",
        "stop_words = stopwords.words('english')"
      ],
      "metadata": {
        "id": "DVze5iVlptNa",
        "colab": {
          "base_uri": "https://localhost:8080/"
        },
        "outputId": "5283b4be-00cc-4302-b584-2798ed4b6fcd"
      },
      "execution_count": null,
      "outputs": [
        {
          "output_type": "stream",
          "name": "stdout",
          "text": [
            "[nltk_data] Downloading package stopwords to /root/nltk_data...\n",
            "[nltk_data]   Unzipping corpora/stopwords.zip.\n",
            "[nltk_data] Downloading package punkt to /root/nltk_data...\n",
            "[nltk_data]   Unzipping tokenizers/punkt.zip.\n"
          ]
        }
      ]
    },
    {
      "cell_type": "code",
      "source": [
        "tmdb = TMDb()\n",
        "tmdb.api_key=\"12aee6e6e9db1d19c5d8078b2188e3a6\"\n",
        "tmdb_movie = Movie()\n",
        "\n",
        "def get_info(title):\n",
        "  info=[]\n",
        "  result = tmdb_movie.search(title)\n",
        "  if result:\n",
        "    movie_id = result[0].id\n",
        "    response = requests.get(f'https://api.themoviedb.org/3/movie/{movie_id}?api_key=12aee6e6e9db1d19c5d8078b2188e3a6')\n",
        "    data_json = response.json()\n",
        "  else:  \n",
        "    return None\n",
        "  \n",
        "  return data_json\n",
        "\n",
        "def get_reviews(title):\n",
        "  details = get_info(title)\n",
        "  imdb_id = details['imdb_id']\n",
        "\n",
        "  sauce = urllib.request.urlopen(f'https://www.imdb.com/title/{imdb_id}/reviews?ref_=tt_ov_rt').read()\n",
        "  soup = bs.BeautifulSoup(sauce,'lxml')\n",
        "  soup_result = soup.find_all(\"div\",{\"class\":\"text show-more__control\"})\n",
        "  reviews = []\n",
        "  for i in range(len(soup_result)):\n",
        "    reviews.append(soup_result[i].text)\n",
        "\n",
        "  full_reviews = pd.DataFrame(reviews,  columns=['reviews'])\n",
        "  reviews,reviews_status,reviews_list= [],[],[]\n",
        " \n",
        "  for reviews in full_reviews['reviews']:\n",
        "    reviews= [reviews]\n",
        "    movie_vector = vectorizer.transform(reviews)\n",
        "    pred = clf.predict(movie_vector)\n",
        "    reviews_status.append('Good' if pred else 'Bad')\n",
        "    \n",
        "  full_reviews['sentiments'] = reviews_status\n",
        "  return full_reviews\n",
        "\n",
        "def top5_reviews(title):\n",
        "  full_data = get_reviews(title)\n",
        "  return full_data.sample(7).reset_index()\n",
        "  "
      ],
      "metadata": {
        "id": "fY7DtGY6pu2k"
      },
      "execution_count": null,
      "outputs": []
    },
    {
      "cell_type": "code",
      "source": [
        "reviews_full = get_reviews(\"Spectre\")\n",
        "summarizer(reviews_full['reviews'][4])"
      ],
      "metadata": {
        "id": "YUHHBRQpp6d-"
      },
      "execution_count": null,
      "outputs": []
    },
    {
      "cell_type": "code",
      "source": [
        "summarizer(reviews_full['reviews'][4])"
      ],
      "metadata": {
        "colab": {
          "base_uri": "https://localhost:8080/",
          "height": 35
        },
        "id": "mUDd3E8A2Ohe",
        "outputId": "fc6a2995-71fa-401c-8375-99cbace7fb4c"
      },
      "execution_count": null,
      "outputs": [
        {
          "output_type": "execute_result",
          "data": {
            "application/vnd.google.colaboratory.intrinsic+json": {
              "type": "string"
            },
            "text/plain": [
              "''"
            ]
          },
          "metadata": {},
          "execution_count": 255
        }
      ]
    },
    {
      "cell_type": "code",
      "source": [
        "reviews_full['reviews'][:4].apply(summarizer)"
      ],
      "metadata": {
        "colab": {
          "base_uri": "https://localhost:8080/"
        },
        "id": "F6379dYir8Ud",
        "outputId": "1c859c2a-d32f-4ec7-83a3-59bbde76f119"
      },
      "execution_count": null,
      "outputs": [
        {
          "output_type": "execute_result",
          "data": {
            "text/plain": [
              "0    Pierce Brosnan's are not very popular with som...\n",
              "1    Following on from the success of SKYFALL, the ...\n",
              "2    Dr. Madeline Swann (Léa Seydoux) is the daught...\n",
              "3    He does gift us with a few seconds of Judi Den...\n",
              "Name: reviews, dtype: object"
            ]
          },
          "metadata": {},
          "execution_count": 232
        }
      ]
    },
    {
      "cell_type": "code",
      "source": [
        ""
      ],
      "metadata": {
        "id": "V1LBKiyZrZgc"
      },
      "execution_count": null,
      "outputs": []
    },
    {
      "cell_type": "code",
      "source": [
        "from string import  punctuation\n",
        "punctuation = punctuation + '\\n' + \"''\"+'``'\n",
        "punctuation\n",
        "\n",
        "def summarizer(review):\n",
        "  sentances = sent_tokenize(review)\n",
        "  tokens = word_tokenize(review)\n",
        "\n",
        "  word_freq={}\n",
        "  for word in tokens:\n",
        "    if word.lower() not in punctuation:\n",
        "      if word.lower() not in stop_words:\n",
        "        if word not in word_freq.keys():\n",
        "          word_freq[word]=1\n",
        "        else:\n",
        "          word_freq[word]+=1\n",
        "  \n",
        "  maximum_freq = max(word_freq.values())\n",
        "  for word in word_freq.keys():\n",
        "    word_freq[word] = word_freq[word] / maximum_freq\n",
        "\n",
        "  sentence_weigth = dict()\n",
        "  for sent in sentances:\n",
        "      sent_count_without_stopwords = 0\n",
        "      for word_weigth in word_freq:\n",
        "          if not word_weigth in sent.lower():\n",
        "              pass\n",
        "          else:\n",
        "            sent_count_without_stopwords +=1\n",
        "            if sent in sentence_weigth:\n",
        "              sentence_weigth[sent] += word_freq[word_weigth]\n",
        "            else:\n",
        "              sentence_weigth[sent] = word_freq[word_weigth]\n",
        "\n",
        "  length = 1\n",
        "\n",
        "  summary = nlargest(length, sentence_weigth, key=sentence_weigth.get)\n",
        "  final_summary = [word for word in summary]\n",
        "  summary = ''.join(final_summary)\n",
        "  \n",
        "  if summary:\n",
        "      return summary"
      ],
      "metadata": {
        "id": "5uZgWlWMph72"
      },
      "execution_count": null,
      "outputs": []
    },
    {
      "cell_type": "code",
      "source": [
        "def get_tmdb_details(title):\n",
        "  info=[]\n",
        "  result = tmdb_movie.search(title)\n",
        "  if result:\n",
        "    movie_id = result[0].id\n",
        "    response = requests.get(f'https://api.themoviedb.org/3/movie/{movie_id}?api_key=12aee6e6e9db1d19c5d8078b2188e3a6')\n",
        "    data_json = response.json()\n",
        "  else:  \n",
        "    return None\n",
        "  \n",
        "  return data_json\n",
        "\n",
        "                                                          \n",
        "get_tmdb_details('Thor: Love and Thunder')\n"
      ],
      "metadata": {
        "id": "UpOvRhX_ph4-",
        "colab": {
          "base_uri": "https://localhost:8080/"
        },
        "outputId": "d5da93d8-65af-4616-caa1-c3710659eacc"
      },
      "execution_count": null,
      "outputs": [
        {
          "output_type": "execute_result",
          "data": {
            "text/plain": [
              "{'adult': False,\n",
              " 'backdrop_path': '/qB3HdCZKHWU33k9QYTIZaM4v5qo.jpg',\n",
              " 'belongs_to_collection': {'backdrop_path': '/3KL8UNKFWgIKXzLHjwY0uwgjzYl.jpg',\n",
              "  'id': 131296,\n",
              "  'name': 'Thor Collection',\n",
              "  'poster_path': '/yw7gr7DhHHVTLlO8Se8uH17TDMA.jpg'},\n",
              " 'budget': 0,\n",
              " 'genres': [{'id': 28, 'name': 'Action'},\n",
              "  {'id': 12, 'name': 'Adventure'},\n",
              "  {'id': 14, 'name': 'Fantasy'}],\n",
              " 'homepage': 'https://www.marvel.com/movies/thor-love-and-thunder',\n",
              " 'id': 616037,\n",
              " 'imdb_id': 'tt10648342',\n",
              " 'original_language': 'en',\n",
              " 'original_title': 'Thor: Love and Thunder',\n",
              " 'overview': \"The fourth installment of the Marvel Studios' Thor movie series.\",\n",
              " 'popularity': 44.835,\n",
              " 'poster_path': '/ifx23jgqQ8ZjUb9eiGjwbKtf0qQ.jpg',\n",
              " 'production_companies': [{'id': 420,\n",
              "   'logo_path': '/hUzeosd33nzE5MCNsZxCGEKTXaQ.png',\n",
              "   'name': 'Marvel Studios',\n",
              "   'origin_country': 'US'}],\n",
              " 'production_countries': [{'iso_3166_1': 'US',\n",
              "   'name': 'United States of America'}],\n",
              " 'release_date': '2022-07-07',\n",
              " 'revenue': 0,\n",
              " 'runtime': 0,\n",
              " 'spoken_languages': [{'english_name': 'English',\n",
              "   'iso_639_1': 'en',\n",
              "   'name': 'English'}],\n",
              " 'status': 'Post Production',\n",
              " 'tagline': '',\n",
              " 'title': 'Thor: Love and Thunder',\n",
              " 'video': False,\n",
              " 'vote_average': 0.0,\n",
              " 'vote_count': 0}"
            ]
          },
          "metadata": {},
          "execution_count": 104
        }
      ]
    },
    {
      "cell_type": "code",
      "source": [
        "sauce = urllib.request.urlopen(f'https://www.imdb.com/title/{imdb_id}/fullcredits?ref_=tt_cl_sm').read()\n",
        "soup = bs.BeautifulSoup(sauce,'lxml')\n",
        "soup_result = soup.find_all(\"td\",{\"class\":\"primary_photo\"})\n",
        "from urlextract import URLExtract\n",
        "soup_result[1]"
      ],
      "metadata": {
        "colab": {
          "base_uri": "https://localhost:8080/"
        },
        "id": "RJXj2oOw1Ld8",
        "outputId": "c8374fa8-943a-41a1-9837-21236cf06e5f"
      },
      "execution_count": null,
      "outputs": [
        {
          "output_type": "execute_result",
          "data": {
            "text/plain": [
              "<td class=\"primary_photo\">\n",
              "<a href=\"/name/nm0910607/\"><img alt=\"Christoph Waltz\" class=\"loadlate hidden \" height=\"44\" loadlate=\"https://m.media-amazon.com/images/M/MV5BMTM4MDk3OTYxOF5BMl5BanBnXkFtZTcwMDk5OTUwOQ@@._V1_UY44_CR0,0,32,44_AL_.jpg\" src=\"https://m.media-amazon.com/images/S/sash/N1QWYSqAfSJV62Y.png\" title=\"Christoph Waltz\" width=\"32\"/></a> </td>"
            ]
          },
          "metadata": {},
          "execution_count": 33
        }
      ]
    },
    {
      "cell_type": "code",
      "source": [
        "imdb_id = get_imdb_id('Avatar')\n",
        "imdb_id"
      ],
      "metadata": {
        "colab": {
          "base_uri": "https://localhost:8080/",
          "height": 35
        },
        "id": "vti3L6EPm-_3",
        "outputId": "826f9043-ee4a-4008-d006-8f12258f9876"
      },
      "execution_count": null,
      "outputs": [
        {
          "output_type": "execute_result",
          "data": {
            "application/vnd.google.colaboratory.intrinsic+json": {
              "type": "string"
            },
            "text/plain": [
              "'tt0499549'"
            ]
          },
          "metadata": {},
          "execution_count": 112
        }
      ]
    },
    {
      "cell_type": "code",
      "source": [
        "extractor = URLExtract()\n"
      ],
      "metadata": {
        "id": "tWQdzDXSncBV"
      },
      "execution_count": null,
      "outputs": []
    },
    {
      "cell_type": "markdown",
      "source": [
        "# fetch actor piture from cast individual page\n"
      ],
      "metadata": {
        "id": "dMiKeMdRn9Cu"
      }
    },
    {
      "cell_type": "code",
      "source": [
        "sauce = urllib.request.urlopen(f'https://www.imdb.com/title/tt0499549/fullcredits/').read()\n",
        "soup = bs.BeautifulSoup(sauce,'lxml')\n",
        "soup_result = soup.find_all(\"td\",{\"class\":\"primary_photo\"})\n",
        "id  = re.findall(pattern,str(soup_result))[:3]\n",
        "\n",
        "  \n",
        "for i in id:\n",
        "  sauce = urllib.request.urlopen(f'https://www.imdb.com/name/{i}').read()\n",
        "  soup = bs.BeautifulSoup(sauce,'lxml')\n",
        "  soup_result = soup.find_all(\"img\",{\"id\":\"name-poster\"})\n",
        "\n",
        "  print(extractor.find_urls(str(soup_result)))"
      ],
      "metadata": {
        "colab": {
          "base_uri": "https://localhost:8080/",
          "height": 245
        },
        "id": "Joee3AUdoe11",
        "outputId": "7d82b9aa-5665-4cd4-fd9e-5bf83041ee09"
      },
      "execution_count": null,
      "outputs": [
        {
          "output_type": "error",
          "ename": "NameError",
          "evalue": "ignored",
          "traceback": [
            "\u001b[0;31m---------------------------------------------------------------------------\u001b[0m",
            "\u001b[0;31mNameError\u001b[0m                                 Traceback (most recent call last)",
            "\u001b[0;32m<ipython-input-1-adac62f2eda5>\u001b[0m in \u001b[0;36m<module>\u001b[0;34m()\u001b[0m\n\u001b[0;32m----> 1\u001b[0;31m \u001b[0msauce\u001b[0m \u001b[0;34m=\u001b[0m \u001b[0murllib\u001b[0m\u001b[0;34m.\u001b[0m\u001b[0mrequest\u001b[0m\u001b[0;34m.\u001b[0m\u001b[0murlopen\u001b[0m\u001b[0;34m(\u001b[0m\u001b[0;34mf'https://www.imdb.com/title/tt0499549/fullcredits/'\u001b[0m\u001b[0;34m)\u001b[0m\u001b[0;34m.\u001b[0m\u001b[0mread\u001b[0m\u001b[0;34m(\u001b[0m\u001b[0;34m)\u001b[0m\u001b[0;34m\u001b[0m\u001b[0;34m\u001b[0m\u001b[0m\n\u001b[0m\u001b[1;32m      2\u001b[0m \u001b[0msoup\u001b[0m \u001b[0;34m=\u001b[0m \u001b[0mbs\u001b[0m\u001b[0;34m.\u001b[0m\u001b[0mBeautifulSoup\u001b[0m\u001b[0;34m(\u001b[0m\u001b[0msauce\u001b[0m\u001b[0;34m,\u001b[0m\u001b[0;34m'lxml'\u001b[0m\u001b[0;34m)\u001b[0m\u001b[0;34m\u001b[0m\u001b[0;34m\u001b[0m\u001b[0m\n\u001b[1;32m      3\u001b[0m \u001b[0msoup_result\u001b[0m \u001b[0;34m=\u001b[0m \u001b[0msoup\u001b[0m\u001b[0;34m.\u001b[0m\u001b[0mfind_all\u001b[0m\u001b[0;34m(\u001b[0m\u001b[0;34m\"td\"\u001b[0m\u001b[0;34m,\u001b[0m\u001b[0;34m{\u001b[0m\u001b[0;34m\"class\"\u001b[0m\u001b[0;34m:\u001b[0m\u001b[0;34m\"primary_photo\"\u001b[0m\u001b[0;34m}\u001b[0m\u001b[0;34m)\u001b[0m\u001b[0;34m\u001b[0m\u001b[0;34m\u001b[0m\u001b[0m\n\u001b[1;32m      4\u001b[0m \u001b[0mid\u001b[0m  \u001b[0;34m=\u001b[0m \u001b[0mre\u001b[0m\u001b[0;34m.\u001b[0m\u001b[0mfindall\u001b[0m\u001b[0;34m(\u001b[0m\u001b[0mpattern\u001b[0m\u001b[0;34m,\u001b[0m\u001b[0mstr\u001b[0m\u001b[0;34m(\u001b[0m\u001b[0msoup_result\u001b[0m\u001b[0;34m)\u001b[0m\u001b[0;34m)\u001b[0m\u001b[0;34m[\u001b[0m\u001b[0;34m:\u001b[0m\u001b[0;36m3\u001b[0m\u001b[0;34m]\u001b[0m\u001b[0;34m\u001b[0m\u001b[0;34m\u001b[0m\u001b[0m\n\u001b[1;32m      5\u001b[0m \u001b[0;34m\u001b[0m\u001b[0m\n",
            "\u001b[0;31mNameError\u001b[0m: name 'urllib' is not defined"
          ]
        }
      ]
    },
    {
      "cell_type": "code",
      "source": [
        "re.findall(pattern,str(soup_result[0])).pop()"
      ],
      "metadata": {
        "colab": {
          "base_uri": "https://localhost:8080/",
          "height": 35
        },
        "id": "S3t3e5_VxZRp",
        "outputId": "c85d2228-fc14-49a1-da28-9b4d30c67c60"
      },
      "execution_count": null,
      "outputs": [
        {
          "output_type": "execute_result",
          "data": {
            "application/vnd.google.colaboratory.intrinsic+json": {
              "type": "string"
            },
            "text/plain": [
              "'nm0941777'"
            ]
          },
          "metadata": {},
          "execution_count": 173
        }
      ]
    },
    {
      "cell_type": "code",
      "source": [
        "soup_result[3]"
      ],
      "metadata": {
        "colab": {
          "base_uri": "https://localhost:8080/"
        },
        "id": "j1V8u9pBukJE",
        "outputId": "fcd0eae7-43d2-46e9-d036-a5ac5323cb5e"
      },
      "execution_count": null,
      "outputs": [
        {
          "output_type": "execute_result",
          "data": {
            "text/plain": [
              "<td class=\"primary_photo\">\n",
              "<a href=\"/name/nm0002332/\"><img alt=\"Stephen Lang\" class=\"loadlate hidden \" height=\"44\" loadlate=\"https://m.media-amazon.com/images/M/MV5BMjE4NzYwNTc5Nl5BMl5BanBnXkFtZTcwMzQzOTUyNw@@._V1_UY44_CR0,0,32,44_AL_.jpg\" src=\"https://m.media-amazon.com/images/S/sash/N1QWYSqAfSJV62Y.png\" title=\"Stephen Lang\" width=\"32\"/></a> </td>"
            ]
          },
          "metadata": {},
          "execution_count": 150
        }
      ]
    },
    {
      "cell_type": "code",
      "source": [
        "sauce = urllib.request.urlopen(f'https://www.imdb.com/name/nm094177').read()\n",
        "soup = bs.BeautifulSoup(sauce,'lxml')\n",
        "soup_result = soup.find_all(\"img\",{\"id\":\"name-poster\"})\n",
        "from urlextract import URLExtract\n",
        "extractor.find_urls(str(soup_result))"
      ],
      "metadata": {
        "id": "tHDjKpHSph2c"
      },
      "execution_count": null,
      "outputs": []
    },
    {
      "cell_type": "code",
      "source": [
        "\n",
        "def get_imdb_id(title):\n",
        "  info=[]\n",
        "  result = tmdb_movie.search(title)\n",
        "  if result:\n",
        "    movie_id = result[0].id\n",
        "    response = requests.get(f'https://api.themoviedb.org/3/movie/{movie_id}?api_key=12aee6e6e9db1d19c5d8078b2188e3a6')\n",
        "    data_json = response.json()\n",
        "  else:  \n",
        "    return None\n",
        "  \n",
        "  return data_json['imdb_id']"
      ],
      "metadata": {
        "id": "RknrsL-tXXO6"
      },
      "execution_count": null,
      "outputs": []
    },
    {
      "cell_type": "code",
      "source": [
        "get_imdb_id('Aquaman 2')"
      ],
      "metadata": {
        "colab": {
          "base_uri": "https://localhost:8080/",
          "height": 35
        },
        "id": "WCqLOi5pXdYM",
        "outputId": "f3436551-7469-480b-b415-db1c335e47c3"
      },
      "execution_count": null,
      "outputs": [
        {
          "output_type": "execute_result",
          "data": {
            "application/vnd.google.colaboratory.intrinsic+json": {
              "type": "string"
            },
            "text/plain": [
              "'tt1477834'"
            ]
          },
          "metadata": {},
          "execution_count": 126
        }
      ]
    },
    {
      "cell_type": "code",
      "source": [
        "!pip install urlextract"
      ],
      "metadata": {
        "colab": {
          "base_uri": "https://localhost:8080/"
        },
        "id": "6ktbXjX3bmQj",
        "outputId": "d43e7047-e493-4f13-fa55-60fc5ee5b86b"
      },
      "execution_count": null,
      "outputs": [
        {
          "output_type": "stream",
          "name": "stdout",
          "text": [
            "Collecting urlextract\n",
            "  Downloading urlextract-1.5.0-py3-none-any.whl (20 kB)\n",
            "Collecting uritools\n",
            "  Downloading uritools-4.0.0-py3-none-any.whl (10 kB)\n",
            "Requirement already satisfied: idna in /usr/local/lib/python3.7/dist-packages (from urlextract) (2.10)\n",
            "Requirement already satisfied: filelock in /usr/local/lib/python3.7/dist-packages (from urlextract) (3.4.2)\n",
            "Collecting platformdirs\n",
            "  Downloading platformdirs-2.4.1-py3-none-any.whl (14 kB)\n",
            "Installing collected packages: uritools, platformdirs, urlextract\n",
            "Successfully installed platformdirs-2.4.1 uritools-4.0.0 urlextract-1.5.0\n"
          ]
        }
      ]
    },
    {
      "cell_type": "code",
      "source": [
        "!pip install tmdbv3api"
      ],
      "metadata": {
        "colab": {
          "base_uri": "https://localhost:8080/"
        },
        "id": "TQSI7ma2w-F4",
        "outputId": "34c88cca-4555-4896-d6cd-99e668fff4a2"
      },
      "execution_count": null,
      "outputs": [
        {
          "output_type": "stream",
          "name": "stdout",
          "text": [
            "Collecting tmdbv3api\n",
            "  Downloading tmdbv3api-1.7.6-py2.py3-none-any.whl (17 kB)\n",
            "Requirement already satisfied: requests in /usr/local/lib/python3.7/dist-packages (from tmdbv3api) (2.23.0)\n",
            "Requirement already satisfied: idna<3,>=2.5 in /usr/local/lib/python3.7/dist-packages (from requests->tmdbv3api) (2.10)\n",
            "Requirement already satisfied: certifi>=2017.4.17 in /usr/local/lib/python3.7/dist-packages (from requests->tmdbv3api) (2021.10.8)\n",
            "Requirement already satisfied: chardet<4,>=3.0.2 in /usr/local/lib/python3.7/dist-packages (from requests->tmdbv3api) (3.0.4)\n",
            "Requirement already satisfied: urllib3!=1.25.0,!=1.25.1,<1.26,>=1.21.1 in /usr/local/lib/python3.7/dist-packages (from requests->tmdbv3api) (1.24.3)\n",
            "Installing collected packages: tmdbv3api\n",
            "Successfully installed tmdbv3api-1.7.6\n"
          ]
        }
      ]
    },
    {
      "cell_type": "code",
      "source": [
        "import requests\n",
        "from urlextract import URLExtract\n",
        "from tmdbv3api import TMDb\n",
        "from tmdbv3api import Movie\n",
        "import json\n",
        "\n",
        "\n",
        "tmdb = TMDb()\n",
        "tmdb.api_key=\"12aee6e6e9db1d19c5d8078b2188e3a6\"\n",
        "tmdb_movie = Movie()\n",
        "\n",
        "extractor = URLExtract()\n",
        "\n",
        "def get_imdb_id(title):\n",
        "  info=[]\n",
        "  result = tmdb_movie.search(title)\n",
        "  if result:\n",
        "    movie_id = result[0].id\n",
        "    response = requests.get(f'https://api.themoviedb.org/3/movie/{movie_id}?api_key=12aee6e6e9db1d19c5d8078b2188e3a6')\n",
        "    data_json = response.json()\n",
        "  else:  \n",
        "    return None\n",
        "  \n",
        "  return data_json['imdb_id']\n",
        "\n",
        "\n",
        "def get_images(title):\n",
        "  imdb_id = get_imdb_id(title)\n",
        "\n",
        "  url = \"https://imdb8.p.rapidapi.com/title/get-images\"\n",
        "\n",
        "  querystring = {\"tconst\":imdb_id,\"limit\":\"5\"}\n",
        "\n",
        "  headers = {\n",
        "      'x-rapidapi-host': \"imdb8.p.rapidapi.com\",\n",
        "      'x-rapidapi-key': \"7f3de3d2eemsh2291312e476f463p157afbjsn020bbf7037b8\"\n",
        "      }\n",
        "\n",
        "  response = requests.request(\"GET\", url, headers=headers, params=querystring)\n",
        "\n",
        "\n",
        "  return(set(extractor.find_urls(response.text)))\n"
      ],
      "metadata": {
        "id": "OEqgkufB3RmW"
      },
      "execution_count": null,
      "outputs": []
    },
    {
      "cell_type": "code",
      "source": [
        "images_total = list(get_images('Thor: Love and Thunder'))\n",
        "if len(images_total) > 10:\n",
        "  print(images_total[:11])\n",
        "elif (len(images_total) < 10) and (len(images_total) > 5):\n",
        "  print(images_total[:6])\n",
        "elif (len(images_total) < 5) and (len(images_total) > 3):\n",
        "  print(images_total[:4])\n"
      ],
      "metadata": {
        "colab": {
          "base_uri": "https://localhost:8080/"
        },
        "id": "9dETmDcrWhB5",
        "outputId": "5cf45dfb-77e3-4b3a-bd92-637be00414e3"
      },
      "execution_count": null,
      "outputs": [
        {
          "output_type": "stream",
          "name": "stdout",
          "text": [
            "['https://m.media-amazon.com/images/M/MV5BNDk4MGZmYjEtZGM0OS00ZWU2LTg0OTMtMzMxNTZiM2Y2OTY4XkEyXkFqcGdeQXVyMTIwMjQ4ODcw._V1_.jpg', 'https://m.media-amazon.com/images/M/MV5BMTg5NjA3ODkyMl5BMl5BanBnXkFtZTgwNTU4Mzg5NjE@._V1_.jpg', 'https://m.media-amazon.com/images/M/MV5BMjIwMDY3MTM2MF5BMl5BanBnXkFtZTcwNTEyOTgxOA@@._V1_.jpg', 'https://m.media-amazon.com/images/M/MV5BMTQwMDQ0NDk1OV5BMl5BanBnXkFtZTcwNDcxOTExNg@@._V1_.jpg', 'https://m.media-amazon.com/images/M/MV5BMzZjMTIwNjYtYTg0ZS00ZDFjLTk3MDctMTY3ZTgwMjQ4MmFiXkEyXkFqcGdeQXVyNjg2NjQwMDQ@._V1_.jpg', 'https://m.media-amazon.com/images/M/MV5BN2RmYzMxOGEtZDBjMi00ZDQ2LTk2YmEtMmQxNjViZTU2OGY0XkEyXkFqcGdeQXVyMTkxNjUyNQ@@._V1_.jpg', 'https://m.media-amazon.com/images/M/MV5BMzk4MDIzNjcwNV5BMl5BanBnXkFtZTgwMTIyMjgwNDI@._V1_.jpg', 'https://m.media-amazon.com/images/M/MV5BMTY0MzU1MTEzMl5BMl5BanBnXkFtZTgwMDY3OTA2MDE@._V1_.jpg', 'https://m.media-amazon.com/images/M/MV5BY2FlYTk1NjMtZDA0ZC00MDQ2LWIxNWUtYzQzZDQ2NGNlYjUxXkEyXkFqcGdeQXVyMTQzOTk3NTI0._V1_.jpg', 'https://m.media-amazon.com/images/M/MV5BYTkzYzE3NTQtNmY3Ni00MjkwLTgxZTEtMjgzOGI3YWE3NWU3XkEyXkFqcGdeQXVyMTY3OTI2NDA@._V1_.jpg', 'https://m.media-amazon.com/images/M/MV5BMTM0NzYzNDgxMl5BMl5BanBnXkFtZTcwMDg2MTMyMw@@._V1_.jpg']\n"
          ]
        }
      ]
    },
    {
      "cell_type": "code",
      "source": [
        "get_imdb_id('Thor: Love and Thunder')"
      ],
      "metadata": {
        "colab": {
          "base_uri": "https://localhost:8080/",
          "height": 35
        },
        "id": "qB6WhuJ0iXU7",
        "outputId": "96d9397f-39a9-4994-c7a8-f23498709b11"
      },
      "execution_count": null,
      "outputs": [
        {
          "output_type": "execute_result",
          "data": {
            "application/vnd.google.colaboratory.intrinsic+json": {
              "type": "string"
            },
            "text/plain": [
              "'tt10648342'"
            ]
          },
          "metadata": {},
          "execution_count": 38
        }
      ]
    },
    {
      "cell_type": "code",
      "source": [
        "get_images('Avatar')"
      ],
      "metadata": {
        "colab": {
          "base_uri": "https://localhost:8080/"
        },
        "id": "O_RDJQA0WlF_",
        "outputId": "98675bcc-ee66-487a-decd-7ca280a1e892"
      },
      "execution_count": null,
      "outputs": [
        {
          "output_type": "execute_result",
          "data": {
            "text/plain": [
              "{'https://m.media-amazon.com/images/M/MV5BMTYwOTEwNjAzMl5BMl5BanBnXkFtZTcwODc5MTUwMw@@._V1_.jpg',\n",
              " 'https://m.media-amazon.com/images/M/MV5BMTc5NTMyMjIwMV5BMl5BanBnXkFtZTcwNTMyNjYwMw@@._V1_.jpg',\n",
              " 'https://m.media-amazon.com/images/M/MV5BMjAwMDQ5NDY2Ml5BMl5BanBnXkFtZTgwOTk1NDczMjE@._V1_.jpg',\n",
              " 'https://m.media-amazon.com/images/M/MV5BNTE2NWMwYzUtMzM0Yy00NWEwLTk1MGMtOGE2OTY0YjkyMmM4XkEyXkFqcGdeQXVyMTI4MjYzOTIy._V1_.jpg',\n",
              " 'https://m.media-amazon.com/images/M/MV5BOWNmMjY3NzgtZjUzMS00YjBjLWI2OTctNTExZjEzMjkxZGUwXkEyXkFqcGdeQXVyMTI4MjYzOTIy._V1_.jpg',\n",
              " 'https://m.media-amazon.com/images/M/MV5BYjJlMmU4MmEtZGI2NS00MTI4LThhYjgtMWQyYWUzMTQ0ZjVkXkEyXkFqcGdeQXVyMTI4MjYzOTIy._V1_.jpg',\n",
              " 'https://m.media-amazon.com/images/M/MV5BYzhjZmRmYzYtNTVlZi00MDc2LTliZjItYzMyOTlmNmI0Y2RiXkEyXkFqcGdeQXVyMTI4MjYzOTIy._V1_.jpg',\n",
              " 'https://m.media-amazon.com/images/M/MV5BZDdiN2QzYjgtMmYxNC00ODljLWFlZjgtN2I3YjE5MDI3NDM4XkEyXkFqcGdeQXVyMjQwMDg0Ng@@._V1_.jpg',\n",
              " 'https://m.media-amazon.com/images/M/MV5BZjhmOGExMTYtNzM4OC00MTZiLWJmNDYtMTBlYTNiN2Q0YTc3XkEyXkFqcGdeQXVyMTI4MjYzOTIy._V1_.jpg'}"
            ]
          },
          "metadata": {},
          "execution_count": 36
        }
      ]
    },
    {
      "cell_type": "markdown",
      "source": [
        "# fetching cast photos and names"
      ],
      "metadata": {
        "id": "Hr9rIknYhYGD"
      }
    },
    {
      "cell_type": "code",
      "source": [
        "def fetch_cast(title):\n",
        "  imdb_id = get_imdb_id(title)\n",
        "  sauce = urllib.request.urlopen(f'https://www.imdb.com/title/{imdb_id}/fullcredits/').read()\n",
        "  soup = bs.BeautifulSoup(sauce,'lxml')\n",
        "  soup_result = soup.find_all(\"td\",{\"class\":\"primary_photo\"})\n",
        "  actors = []\n",
        "\n",
        "  for i in range(3):\n",
        "    actors.append(re.findall(r'\"(.*?)\"', str(soup_result[i]))[2])\n",
        "\n",
        "  pattern = \"[a-zA-Z]{2}\\d{7}\"\n",
        "  id  = re.findall(pattern,str(soup_result))[:3]\n",
        "  url=[]\n",
        "\n",
        "  for i in id:\n",
        "    sauce = urllib.request.urlopen(f'https://www.imdb.com/name/{i}').read()\n",
        "    soup = bs.BeautifulSoup(sauce,'lxml')\n",
        "    soup_result = soup.find_all(\"img\",{\"id\":\"name-poster\"})\n",
        "\n",
        "    url.append(extractor.find_urls(str(soup_result)).pop())\n",
        "  return url, actors"
      ],
      "metadata": {
        "id": "VZpsAe6QfKUG"
      },
      "execution_count": null,
      "outputs": []
    },
    {
      "cell_type": "code",
      "source": [
        " id = get_imdb_id('Avatar 2')\n",
        " id"
      ],
      "metadata": {
        "colab": {
          "base_uri": "https://localhost:8080/",
          "height": 35
        },
        "id": "aALBDvpRzhQ4",
        "outputId": "e031405b-5ef2-4da1-f815-aefea5ef59e2"
      },
      "execution_count": null,
      "outputs": [
        {
          "output_type": "execute_result",
          "data": {
            "application/vnd.google.colaboratory.intrinsic+json": {
              "type": "string"
            },
            "text/plain": [
              "'tt1630029'"
            ]
          },
          "metadata": {},
          "execution_count": 9
        }
      ]
    },
    {
      "cell_type": "code",
      "source": [
        "fetch_cast('Avatar 2')"
      ],
      "metadata": {
        "colab": {
          "base_uri": "https://localhost:8080/"
        },
        "id": "l24k958izlpa",
        "outputId": "da7e6c14-9457-40a6-eea5-60e452cda609"
      },
      "execution_count": null,
      "outputs": [
        {
          "output_type": "execute_result",
          "data": {
            "text/plain": [
              "(['https://m.media-amazon.com/images/M/MV5BMTM2MjIwOTc0Nl5BMl5BanBnXkFtZTcwNzQ5ODM1Mw@@._V1_UX214_CR0,0,214,317_AL_.jpg',\n",
              "  'https://m.media-amazon.com/images/M/MV5BODgzMzM2NTE0Ml5BMl5BanBnXkFtZTcwMTcyMTkyOQ@@._V1_UX214_CR0,0,214,317_AL_.jpg',\n",
              "  'https://m.media-amazon.com/images/M/MV5BMTg0NTI0NDkzOF5BMl5BanBnXkFtZTcwMjYwMTIwNw@@._V1_UX214_CR0,0,214,317_AL_.jpg'],\n",
              " ['Zoe Saldana', 'Kate Winslet', 'Michelle Yeoh'])"
            ]
          },
          "metadata": {},
          "execution_count": 33
        }
      ]
    },
    {
      "cell_type": "code",
      "source": [
        "get_info('Avatar 2')"
      ],
      "metadata": {
        "id": "k5-A3PaK0XBq"
      },
      "execution_count": null,
      "outputs": []
    },
    {
      "cell_type": "code",
      "source": [
        "def get_all_movies_images(imdb):\n",
        "  extractor = URLExtract() \n",
        "  \n",
        "  url = \"https://imdb8.p.rapidapi.com/title/get-images\"\n",
        "\n",
        "  querystring = {\"tconst\":imdb,\"limit\":\"25\"}\n",
        "\n",
        "  headers = {\n",
        "      'x-rapidapi-host': \"imdb8.p.rapidapi.com\",\n",
        "      'x-rapidapi-key': \"7f3de3d2eemsh2291312e476f463p157afbjsn020bbf7037b8\"\n",
        "      }\n",
        "\n",
        "  response = requests.request(\"GET\", url, headers=headers, params=querystring)\n",
        "  \n",
        "\n",
        "\n",
        "  return(set(extractor.find_urls(response.text)))"
      ],
      "metadata": {
        "id": "cYMOdnWEJcgi"
      },
      "execution_count": null,
      "outputs": []
    },
    {
      "cell_type": "code",
      "source": [
        ""
      ],
      "metadata": {
        "id": "8VCQ22V8fOI-"
      },
      "execution_count": null,
      "outputs": []
    }
  ],
  "metadata": {
    "kernelspec": {
      "display_name": "Python 3",
      "language": "python",
      "name": "python3"
    },
    "language_info": {
      "codemirror_mode": {
        "name": "ipython",
        "version": 3
      },
      "file_extension": ".py",
      "mimetype": "text/x-python",
      "name": "python",
      "nbconvert_exporter": "python",
      "pygments_lexer": "ipython3",
      "version": "3.8.3"
    },
    "colab": {
      "name": "sentiment.ipynb",
      "provenance": [],
      "collapsed_sections": []
    }
  },
  "nbformat": 4,
  "nbformat_minor": 0
}